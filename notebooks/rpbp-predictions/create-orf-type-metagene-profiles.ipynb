{
 "cells": [
  {
   "cell_type": "code",
   "execution_count": 1,
   "metadata": {
    "collapsed": true
   },
   "outputs": [],
   "source": [
    "%matplotlib inline"
   ]
  },
  {
   "cell_type": "code",
   "execution_count": 2,
   "metadata": {
    "collapsed": true
   },
   "outputs": [],
   "source": [
    "import matplotlib.pyplot as plt\n",
    "import numpy as np\n",
    "import scipy.io\n",
    "\n",
    "import misc.bio as bio\n",
    "import misc.parallel as parallel\n",
    "import misc.utils as utils"
   ]
  },
  {
   "cell_type": "code",
   "execution_count": 9,
   "metadata": {
    "collapsed": true
   },
   "outputs": [],
   "source": [
    "orfs_file = \"/prj/grosshans-riboseq/RPF/orf-predictions/early-samples-unique.smooth.predicted-orfs.bed.gz\"\n",
    "profiles_file = \"/prj/grosshans-riboseq/RPF/orf-profiles/early-samples-unique.smooth.profiles.mtx\"\n",
    "\n",
    "orfs = bio.read_bed(orfs_file)\n",
    "orf_type_groups = orfs.groupby('orf_type')\n",
    "profiles = scipy.io.mmread(profiles_file).tocsr()"
   ]
  },
  {
   "cell_type": "code",
   "execution_count": 10,
   "metadata": {
    "collapsed": false
   },
   "outputs": [],
   "source": [
    "def get_windows(profile):\n",
    "    \n",
    "    profile = profile / np.max(profile)\n",
    "    \n",
    "    orf_len = len(profile)\n",
    "    if orf_len < 42:\n",
    "        # we would return first window and exit\n",
    "        first_window = profile[:21]\n",
    "        return (first_window, None, None)\n",
    "\n",
    "    first_window, middle_window, last_window = np.split(profile, [21, orf_len-21])\n",
    "\n",
    "    # now, pull together and sum up all intermediate windows (of length 21)\n",
    "    # cheat a bit, and just split split the middle into 21-bp windows, drop the last window\n",
    "    indices = np.arange(21, len(middle_window), 21)\n",
    "    middle_windows = np.split(middle_window, indices)[:-1]\n",
    "    \n",
    "    return first_window, middle_windows, last_window\n",
    "\n",
    "def get_profile(orf, profiles):\n",
    "    orf_num = orf['orf_num']\n",
    "    orf_len = orf['orf_len']\n",
    "\n",
    "    if orf_len < 21:\n",
    "        return None\n",
    "\n",
    "    profile = utils.to_dense(profiles, orf_num, length=orf_len)\n",
    "    return profile"
   ]
  },
  {
   "cell_type": "code",
   "execution_count": 11,
   "metadata": {
    "collapsed": false
   },
   "outputs": [],
   "source": [
    "def plot_windows(windows, title):\n",
    "\n",
    "    windows_np = np.array(windows)\n",
    "    first_windows = windows_np[:,0]\n",
    "\n",
    "    last_windows = windows_np[:,2] \n",
    "    last_windows = np.array([lw for lw in last_windows if lw is not None])\n",
    "\n",
    "    middle_windows = windows_np[:,1] \n",
    "    middle_windows = [mw for mw in middle_windows if mw is not None]\n",
    "    middle_windows = utils.flatten_lists(middle_windows)\n",
    "    middle_windows = np.array(middle_windows)\n",
    "\n",
    "    ind = np.arange(21)  # the x locations for the groups\n",
    "    width = 0.5       # the width of the bars\n",
    "\n",
    "    fig, axes = plt.subplots(ncols=3, sharey=True, sharex=True, figsize=(10,5))\n",
    "\n",
    "    # the first window\n",
    "    first_means = np.mean(first_windows, axis=0)\n",
    "    first_var = np.var(first_windows, axis=0)\n",
    "    rects_first = axes[0].bar(ind, first_means, width, color='g', yerr=first_var)\n",
    "\n",
    "    # the middle windows\n",
    "    middle_means = np.mean(middle_windows, axis=0)\n",
    "    middle_var = np.var(middle_windows, axis=0)\n",
    "    rects_middle = axes[1].bar(ind, middle_means, width, color='g', yerr=middle_var)\n",
    "\n",
    "    # the last window\n",
    "    last_means = np.mean(last_windows, axis=0)\n",
    "    last_var = np.var(last_windows, axis=0)\n",
    "    rects_last = axes[2].bar(ind, last_means, width, color='g', yerr=last_var)\n",
    "\n",
    "    axes[0].set_xlim((-width, 21))\n",
    "    axes[0].set_ylim((0, 1.05))\n",
    "    \n",
    "    fig.suptitle(title)"
   ]
  },
  {
   "cell_type": "code",
   "execution_count": 33,
   "metadata": {
    "collapsed": true
   },
   "outputs": [],
   "source": [
    "def run_all(g, profiles, num_cpus=2):\n",
    "    orf_type = g['orf_type'].iloc[0]\n",
    "\n",
    "    g_profiles = parallel.apply_df_simple(g, get_profile, profiles, progress_bar=True)\n",
    "    windows = parallel.apply_parallel_iter(g_profiles, num_cpus, get_windows, progress_bar=True)\n",
    "    \n",
    "    plot_windows(windows, orf_type)"
   ]
  },
  {
   "cell_type": "code",
   "execution_count": 34,
   "metadata": {
    "collapsed": false
   },
   "outputs": [
    {
     "name": "stdout",
     "output_type": "stream",
     "text": [
      "\n",
      "  0%|          | 0/6057 [00:00<?, ?it/s]\u001b[A\n",
      "  2%|▏         | 101/6057 [00:00<00:05, 1004.90it/s]\u001b[A\n",
      "  5%|▍         | 296/6057 [00:00<00:04, 1175.27it/s]\u001b[A\n",
      "  7%|▋         | 443/6057 [00:00<00:04, 1250.49it/s]\u001b[A\n",
      " 11%|█         | 643/6057 [00:00<00:03, 1407.53it/s]\u001b[A\n",
      " 14%|█▍        | 840/6057 [00:00<00:03, 1539.23it/s]\u001b[A\n",
      " 17%|█▋        | 1038/6057 [00:00<00:03, 1646.69it/s]\u001b[A\n",
      " 20%|██        | 1213/6057 [00:00<00:02, 1673.96it/s]\u001b[A\n",
      " 23%|██▎       | 1397/6057 [00:00<00:02, 1712.82it/s]\u001b[A\n",
      " 26%|██▌       | 1569/6057 [00:00<00:02, 1704.71it/s]\u001b[A\n",
      " 29%|██▉       | 1759/6057 [00:01<00:02, 1756.26it/s]\u001b[A\n",
      " 32%|███▏      | 1935/6057 [00:01<00:02, 1705.14it/s]\u001b[A\n",
      " 35%|███▌      | 2123/6057 [00:01<00:02, 1750.26it/s]\u001b[A\n",
      " 38%|███▊      | 2307/6057 [00:01<00:02, 1772.90it/s]\u001b[A\n",
      " 41%|████      | 2485/6057 [00:01<00:02, 1542.61it/s]\u001b[A\n",
      " 44%|████▎     | 2646/6057 [00:01<00:02, 1382.32it/s]\u001b[A\n",
      " 46%|████▌     | 2792/6057 [00:01<00:02, 1372.95it/s]\u001b[A\n",
      " 49%|████▉     | 2992/6057 [00:01<00:02, 1514.81it/s]\u001b[A\n",
      " 52%|█████▏    | 3165/6057 [00:01<00:01, 1569.71it/s]\u001b[A\n",
      " 55%|█████▌    | 3345/6057 [00:02<00:01, 1631.28it/s]\u001b[A\n",
      " 59%|█████▊    | 3546/6057 [00:02<00:01, 1726.48it/s]\u001b[A\n",
      " 62%|██████▏   | 3757/6057 [00:02<00:01, 1824.76it/s]\u001b[A\n",
      " 65%|██████▌   | 3945/6057 [00:02<00:01, 1662.87it/s]\u001b[A\n",
      " 68%|██████▊   | 4118/6057 [00:02<00:01, 1485.75it/s]\u001b[A\n",
      " 71%|███████   | 4275/6057 [00:02<00:01, 1406.70it/s]\u001b[A\n",
      " 73%|███████▎  | 4439/6057 [00:02<00:01, 1467.94it/s]\u001b[A\n",
      " 77%|███████▋  | 4644/6057 [00:02<00:00, 1603.29it/s]\u001b[A\n",
      " 80%|███████▉  | 4842/6057 [00:02<00:00, 1696.74it/s]\u001b[A\n",
      " 83%|████████▎ | 5042/6057 [00:03<00:00, 1775.15it/s]\u001b[A\n",
      " 87%|████████▋ | 5244/6057 [00:03<00:00, 1839.27it/s]\u001b[A\n",
      " 90%|████████▉ | 5442/6057 [00:03<00:00, 1875.89it/s]\u001b[A\n",
      " 93%|█████████▎| 5641/6057 [00:03<00:00, 1906.09it/s]\u001b[A\n",
      " 96%|█████████▋| 5842/6057 [00:03<00:00, 1935.74it/s]\u001b[A\n",
      "100%|█████████▉| 6041/6057 [00:03<00:00, 1945.17it/s]\u001b[A\n",
      "100%|██████████| 6057/6057 [00:03<00:00, 1708.74it/s]\u001b[A\n",
      "  0%|          | 0/6057 [00:00<?, ?it/s]\u001b[A\n",
      "  0%|          | 1/6057 [00:00<42:38,  2.37it/s]\u001b[A\n",
      "  4%|▍         | 252/6057 [00:00<28:37,  3.38it/s]\u001b[A\n",
      "  7%|▋         | 440/6057 [00:00<19:24,  4.82it/s]\u001b[A\n",
      " 13%|█▎        | 816/6057 [00:00<12:41,  6.88it/s]\u001b[A\n",
      " 17%|█▋        | 1004/6057 [00:01<08:37,  9.76it/s]\u001b[A\n",
      " 20%|█▉        | 1192/6057 [00:01<05:50, 13.87it/s]\u001b[A\n",
      " 23%|██▎       | 1380/6057 [00:01<03:58, 19.65it/s]\u001b[A\n",
      " 26%|██▌       | 1568/6057 [00:02<02:41, 27.73it/s]\u001b[A\n",
      " 29%|██▉       | 1756/6057 [00:02<01:50, 38.98it/s]\u001b[A\n",
      " 32%|███▏      | 1944/6057 [00:02<01:15, 54.67it/s]\u001b[A\n",
      " 35%|███▌      | 2132/6057 [00:02<00:52, 75.47it/s]\u001b[A\n",
      " 38%|███▊      | 2320/6057 [00:03<00:36, 102.93it/s]\u001b[A\n",
      " 41%|████▏     | 2508/6057 [00:03<00:25, 137.60it/s]\u001b[A\n",
      " 45%|████▍     | 2696/6057 [00:03<00:18, 184.22it/s]\u001b[A\n",
      " 48%|████▊     | 2884/6057 [00:03<00:13, 237.65it/s]\u001b[A\n",
      " 51%|█████     | 3072/6057 [00:04<00:10, 288.73it/s]\u001b[A\n",
      " 54%|█████▍    | 3260/6057 [00:04<00:07, 356.02it/s]\u001b[A\n",
      " 57%|█████▋    | 3448/6057 [00:04<00:06, 418.18it/s]\u001b[A\n",
      " 60%|██████    | 3636/6057 [00:05<00:05, 453.29it/s]\u001b[A\n",
      " 63%|██████▎   | 3824/6057 [00:05<00:04, 554.68it/s]\u001b[A\n",
      " 66%|██████▌   | 4012/6057 [00:05<00:03, 594.86it/s]\u001b[A\n",
      " 69%|██████▉   | 4200/6057 [00:05<00:03, 609.71it/s]\u001b[A\n",
      " 72%|███████▏  | 4388/6057 [00:06<00:02, 658.59it/s]\u001b[A\n",
      " 76%|███████▌  | 4576/6057 [00:06<00:02, 656.91it/s]\u001b[A\n",
      " 79%|███████▊  | 4764/6057 [00:06<00:01, 696.13it/s]\u001b[A\n",
      " 82%|████████▏ | 4952/6057 [00:06<00:01, 690.62it/s]\u001b[A\n",
      " 85%|████████▍ | 5140/6057 [00:07<00:01, 734.84it/s]\u001b[A\n",
      " 88%|████████▊ | 5328/6057 [00:07<00:00, 736.54it/s]\u001b[A\n",
      " 91%|█████████ | 5516/6057 [00:07<00:00, 724.85it/s]\u001b[A\n",
      " 94%|█████████▍| 5704/6057 [00:07<00:00, 733.84it/s]\u001b[A\n",
      " 97%|█████████▋| 5892/6057 [00:08<00:00, 772.82it/s]\u001b[A\n",
      "100%|██████████| 6057/6057 [00:08<00:00, 755.96it/s]\u001b[A\n",
      "  0%|          | 0/6057 [00:00<?, ?it/s]\u001b[A\n",
      "  3%|▎         | 179/6057 [00:00<00:03, 1788.87it/s]\u001b[A\n",
      "  6%|▌         | 369/6057 [00:00<00:03, 1818.58it/s]\u001b[A\n",
      "  9%|▉         | 556/6057 [00:00<00:03, 1833.27it/s]\u001b[A\n",
      " 12%|█▏        | 752/6057 [00:00<00:02, 1863.65it/s]\u001b[A\n",
      " 16%|█▌        | 950/6057 [00:00<00:02, 1896.24it/s]\u001b[A\n",
      " 19%|█▉        | 1144/6057 [00:00<00:02, 1907.26it/s]\u001b[A\n",
      " 22%|██▏       | 1338/6057 [00:00<00:02, 1913.82it/s]\u001b[A\n",
      " 25%|██▌       | 1533/6057 [00:00<00:02, 1920.04it/s]\u001b[A\n",
      " 29%|██▊       | 1728/6057 [00:00<00:02, 1927.30it/s]\u001b[A\n",
      " 32%|███▏      | 1920/6057 [00:01<00:02, 1924.91it/s]\u001b[A\n",
      " 35%|███▍      | 2112/6057 [00:01<00:02, 1916.22it/s]\u001b[A\n",
      " 38%|███▊      | 2311/6057 [00:01<00:01, 1936.06it/s]\u001b[A\n",
      " 41%|████▏     | 2504/6057 [00:01<00:01, 1930.15it/s]\u001b[A\n",
      " 45%|████▍     | 2696/6057 [00:01<00:01, 1914.79it/s]\u001b[A\n",
      " 48%|████▊     | 2887/6057 [00:01<00:01, 1903.52it/s]\u001b[A\n",
      " 51%|█████     | 3077/6057 [00:01<00:01, 1898.36it/s]\u001b[A\n",
      " 54%|█████▍    | 3272/6057 [00:01<00:01, 1911.27it/s]\u001b[A\n",
      " 57%|█████▋    | 3473/6057 [00:01<00:01, 1938.63it/s]\u001b[A\n",
      " 61%|██████    | 3672/6057 [00:01<00:01, 1947.77it/s]\u001b[A\n",
      " 64%|██████▍   | 3868/6057 [00:02<00:01, 1951.37it/s]\u001b[A\n",
      " 67%|██████▋   | 4065/6057 [00:02<00:01, 1951.22it/s]\u001b[A\n",
      " 70%|███████   | 4261/6057 [00:02<00:00, 1946.55it/s]\u001b[A\n",
      " 74%|███████▎  | 4456/6057 [00:02<00:00, 1941.57it/s]\u001b[A\n",
      " 77%|███████▋  | 4651/6057 [00:02<00:00, 1932.03it/s]\u001b[A\n",
      " 80%|███████▉  | 4845/6057 [00:02<00:00, 1930.16it/s]\u001b[A\n",
      " 83%|████████▎ | 5046/6057 [00:02<00:00, 1950.28it/s]\u001b[A\n",
      " 87%|████████▋ | 5244/6057 [00:02<00:00, 1955.64it/s]\u001b[A\n",
      " 90%|████████▉ | 5440/6057 [00:02<00:00, 1931.35it/s]\u001b[A\n",
      " 93%|█████████▎| 5634/6057 [00:02<00:00, 1929.04it/s]\u001b[A\n",
      " 96%|█████████▌| 5827/6057 [00:03<00:00, 1921.80it/s]\u001b[A\n",
      " 99%|█████████▉| 6022/6057 [00:03<00:00, 1929.65it/s]\u001b[A\n",
      "100%|██████████| 6057/6057 [00:03<00:00, 1924.31it/s]\u001b[A\n",
      "  0%|          | 0/6057 [00:00<?, ?it/s]\u001b[A\n",
      "  0%|          | 1/6057 [00:00<22:01,  4.58it/s]\u001b[A\n",
      "  1%|▏         | 88/6057 [00:00<15:13,  6.53it/s]\u001b[A\n",
      "  4%|▍         | 268/6057 [00:00<10:21,  9.32it/s]\u001b[A\n",
      "  7%|▋         | 446/6057 [00:00<07:03, 13.26it/s]\u001b[A\n",
      " 13%|█▎        | 802/6057 [00:00<04:38, 18.90it/s]\u001b[A\n",
      " 16%|█▌        | 980/6057 [00:01<03:10, 26.59it/s]\u001b[A\n",
      " 19%|█▉        | 1158/6057 [00:01<02:10, 37.60it/s]\u001b[A\n",
      " 22%|██▏       | 1336/6057 [00:01<01:30, 52.45it/s]\u001b[A\n",
      " 25%|██▍       | 1514/6057 [00:01<01:02, 73.13it/s]\u001b[A\n",
      " 28%|██▊       | 1692/6057 [00:02<00:43, 99.37it/s]\u001b[A\n",
      " 31%|███       | 1870/6057 [00:02<00:30, 135.74it/s]\u001b[A\n",
      " 34%|███▍      | 2048/6057 [00:02<00:22, 178.21it/s]\u001b[A\n",
      " 37%|███▋      | 2226/6057 [00:02<00:16, 232.27it/s]\u001b[A\n",
      " 40%|███▉      | 2404/6057 [00:02<00:12, 291.40it/s]\u001b[A\n",
      " 43%|████▎     | 2582/6057 [00:03<00:09, 351.62it/s]\u001b[A\n",
      " 46%|████▌     | 2760/6057 [00:03<00:07, 432.04it/s]\u001b[A\n",
      " 49%|████▊     | 2938/6057 [00:03<00:06, 475.04it/s]\u001b[A\n",
      " 51%|█████▏    | 3116/6057 [00:03<00:05, 524.72it/s]\u001b[A\n",
      " 54%|█████▍    | 3294/6057 [00:04<00:04, 585.44it/s]\u001b[A\n",
      " 57%|█████▋    | 3472/6057 [00:04<00:04, 641.36it/s]\u001b[A\n",
      " 60%|██████    | 3650/6057 [00:04<00:03, 623.80it/s]\u001b[A\n",
      " 63%|██████▎   | 3828/6057 [00:04<00:03, 692.65it/s]\u001b[A\n",
      " 66%|██████▌   | 4006/6057 [00:05<00:02, 717.98it/s]\u001b[A\n",
      " 69%|██████▉   | 4184/6057 [00:05<00:02, 694.34it/s]\u001b[A\n",
      " 72%|███████▏  | 4362/6057 [00:05<00:02, 719.70it/s]\u001b[A\n",
      " 75%|███████▍  | 4540/6057 [00:05<00:02, 708.01it/s]\u001b[A\n",
      " 78%|███████▊  | 4718/6057 [00:06<00:01, 751.46it/s]\u001b[A\n",
      " 81%|████████  | 4896/6057 [00:06<00:01, 724.21it/s]\u001b[A\n",
      " 84%|████████▍ | 5074/6057 [00:06<00:01, 812.54it/s]\u001b[A\n",
      " 87%|████████▋ | 5252/6057 [00:06<00:00, 807.10it/s]\u001b[A\n",
      " 90%|████████▉ | 5430/6057 [00:06<00:00, 795.43it/s]\u001b[A\n",
      " 93%|█████████▎| 5608/6057 [00:07<00:00, 772.18it/s]\u001b[A\n",
      " 96%|█████████▌| 5786/6057 [00:07<00:00, 816.61it/s]\u001b[A\n",
      " 98%|█████████▊| 5964/6057 [00:07<00:00, 835.01it/s]\u001b[A\n",
      "100%|██████████| 6057/6057 [00:07<00:00, 798.60it/s]\u001b[A\n",
      "  0%|          | 0/598 [00:00<?, ?it/s]\u001b[A\n",
      " 34%|███▍      | 202/598 [00:00<00:00, 2014.20it/s]\u001b[A\n",
      " 67%|██████▋   | 402/598 [00:00<00:00, 2006.87it/s]\u001b[A\n",
      "100%|██████████| 598/598 [00:00<00:00, 1995.13it/s]\u001b[A\n",
      "  0%|          | 0/598 [00:00<?, ?it/s]\u001b[A\n",
      "  0%|          | 1/598 [00:00<02:13,  4.46it/s]\u001b[A\n",
      " 47%|████▋     | 284/598 [00:00<00:49,  6.37it/s]\u001b[A\n",
      " 73%|███████▎  | 434/598 [00:00<00:18,  9.08it/s]\u001b[A\n",
      " 98%|█████████▊| 584/598 [00:00<00:01, 12.92it/s]\u001b[A\n",
      "100%|██████████| 598/598 [00:00<00:00, 869.65it/s]\u001b[A\n",
      "  0%|          | 0/595 [00:00<?, ?it/s]\u001b[A\n",
      " 35%|███▍      | 207/595 [00:00<00:00, 2063.27it/s]\u001b[A\n",
      " 70%|███████   | 418/595 [00:00<00:00, 2075.54it/s]\u001b[A\n",
      "100%|██████████| 595/595 [00:00<00:00, 2056.35it/s]\u001b[A\n",
      "  0%|          | 0/595 [00:00<?, ?it/s]\u001b[A\n",
      "  0%|          | 1/595 [00:00<02:16,  4.34it/s]\u001b[A\n",
      " 67%|██████▋   | 400/595 [00:00<00:31,  6.20it/s]\u001b[A\n",
      "100%|██████████| 595/595 [00:00<00:00, 1698.19it/s]\u001b[A\n",
      "  0%|          | 0/19 [00:00<?, ?it/s]\u001b[A\n",
      "100%|██████████| 19/19 [00:00<00:00, 2107.52it/s]\u001b[A\n",
      "  0%|          | 0/19 [00:00<?, ?it/s]\u001b[A\n",
      "  5%|▌         | 1/19 [00:00<00:04,  4.37it/s]\u001b[A\n",
      "100%|██████████| 19/19 [00:00<00:00, 82.01it/s]\u001b[A\n",
      "  0%|          | 0/184 [00:00<?, ?it/s]\u001b[A\n",
      "100%|██████████| 184/184 [00:00<00:00, 2074.97it/s]\u001b[A\n",
      "  0%|          | 0/184 [00:00<?, ?it/s]\u001b[A\n",
      "  1%|          | 1/184 [00:00<00:42,  4.30it/s]\u001b[A\n",
      "100%|██████████| 184/184 [00:00<00:00, 776.80it/s]\u001b[A\n",
      "  0%|          | 0/118 [00:00<?, ?it/s]\u001b[A\n",
      "100%|██████████| 118/118 [00:00<00:00, 1961.64it/s]\u001b[A\n",
      "  0%|          | 0/118 [00:00<?, ?it/s]\u001b[A\n",
      "  1%|          | 1/118 [00:00<00:28,  4.05it/s]\u001b[A\n",
      "100%|██████████| 118/118 [00:00<00:00, 468.03it/s]\u001b[A\n",
      "  0%|          | 0/420 [00:00<?, ?it/s]\u001b[A\n",
      " 51%|█████     | 214/420 [00:00<00:00, 2131.70it/s]\u001b[A\n",
      "100%|██████████| 420/420 [00:00<00:00, 2172.85it/s]\u001b[A\n",
      "  0%|          | 0/420 [00:00<?, ?it/s]\u001b[A\n",
      "  0%|          | 1/420 [00:00<01:41,  4.14it/s]\u001b[A\n",
      "100%|██████████| 420/420 [00:00<00:00, 1597.86it/s]\u001b[A\n",
      "  0%|          | 0/11 [00:00<?, ?it/s]\u001b[A\n",
      "100%|██████████| 11/11 [00:00<00:00, 2060.07it/s]\u001b[A\n",
      "  0%|          | 0/11 [00:00<?, ?it/s]\u001b[A\n",
      "  9%|▉         | 1/11 [00:00<00:02,  3.92it/s]\u001b[A\n",
      "100%|██████████| 11/11 [00:00<00:00, 42.70it/s]\u001b[A\n",
      "  0%|          | 0/1287 [00:00<?, ?it/s]\u001b[A\n",
      " 17%|█▋        | 221/1287 [00:00<00:00, 2203.71it/s]\u001b[A\n",
      " 35%|███▍      | 445/1287 [00:00<00:00, 2213.31it/s]\u001b[A\n",
      " 52%|█████▏    | 672/1287 [00:00<00:00, 2227.23it/s]\u001b[A\n",
      " 69%|██████▉   | 894/1287 [00:00<00:00, 2219.10it/s]\u001b[A\n",
      " 87%|████████▋ | 1117/1287 [00:00<00:00, 2219.86it/s]\u001b[A\n",
      "100%|██████████| 1287/1287 [00:00<00:00, 2211.37it/s]\u001b[A\n",
      "  0%|          | 0/1287 [00:00<?, ?it/s]\u001b[A\n",
      "  0%|          | 1/1287 [00:00<05:23,  3.97it/s]\u001b[A\n",
      "100%|██████████| 1287/1287 [00:00<00:00, 4085.24it/s]\u001b[A\n",
      "  0%|          | 0/15604 [00:00<?, ?it/s]\u001b[A\n",
      "  1%|          | 187/15604 [00:00<00:08, 1868.80it/s]\u001b[A\n",
      "  3%|▎         | 417/15604 [00:00<00:07, 1979.87it/s]\u001b[A\n",
      "  4%|▍         | 642/15604 [00:00<00:07, 2052.50it/s]\u001b[A\n",
      "  5%|▌         | 856/15604 [00:00<00:07, 2072.13it/s]\u001b[A\n",
      "  7%|▋         | 1077/15604 [00:00<00:06, 2110.31it/s]\u001b[A\n",
      "  8%|▊         | 1287/15604 [00:00<00:06, 2101.92it/s]\u001b[A\n",
      " 10%|▉         | 1495/15604 [00:00<00:06, 2093.04it/s]\u001b[A\n",
      " 11%|█         | 1710/15604 [00:00<00:06, 2104.06it/s]\u001b[A\n",
      " 12%|█▏        | 1924/15604 [00:00<00:06, 2112.31it/s]\u001b[A\n",
      " 14%|█▍        | 2153/15604 [00:01<00:06, 2159.42it/s]\u001b[A\n",
      " 15%|█▌        | 2379/15604 [00:01<00:06, 2187.42it/s]\u001b[A\n",
      " 17%|█▋        | 2598/15604 [00:01<00:05, 2187.44it/s]\u001b[A\n",
      " 18%|█▊        | 2820/15604 [00:01<00:05, 2196.21it/s]\u001b[A\n",
      " 19%|█▉        | 3039/15604 [00:01<00:05, 2177.09it/s]\u001b[A\n",
      " 21%|██        | 3262/15604 [00:01<00:05, 2192.55it/s]\u001b[A\n",
      " 22%|██▏       | 3487/15604 [00:01<00:05, 2204.60it/s]\u001b[A\n",
      " 24%|██▍       | 3707/15604 [00:01<00:05, 2200.47it/s]\u001b[A\n",
      " 25%|██▌       | 3932/15604 [00:01<00:05, 2210.79it/s]\u001b[A\n",
      " 27%|██▋       | 4157/15604 [00:01<00:05, 2221.86it/s]\u001b[A\n",
      " 28%|██▊       | 4380/15604 [00:02<00:05, 2205.10it/s]\u001b[A\n",
      " 29%|██▉       | 4601/15604 [00:02<00:05, 2192.22it/s]\u001b[A\n",
      " 31%|███       | 4821/15604 [00:02<00:04, 2190.34it/s]\u001b[A\n",
      " 32%|███▏      | 5047/15604 [00:02<00:04, 2210.60it/s]\u001b[A\n",
      " 34%|███▍      | 5269/15604 [00:02<00:04, 2195.99it/s]\u001b[A\n",
      " 35%|███▌      | 5489/15604 [00:02<00:04, 2189.09it/s]\u001b[A\n",
      " 37%|███▋      | 5708/15604 [00:02<00:04, 2167.67it/s]\u001b[A\n",
      " 38%|███▊      | 5925/15604 [00:02<00:04, 2163.16it/s]\u001b[A\n",
      " 39%|███▉      | 6153/15604 [00:02<00:04, 2196.08it/s]\u001b[A\n",
      " 41%|████      | 6413/15604 [00:02<00:03, 2299.11it/s]\u001b[A\n",
      " 43%|████▎     | 6659/15604 [00:03<00:03, 2342.92it/s]\u001b[A\n",
      " 44%|████▍     | 6902/15604 [00:03<00:03, 2368.36it/s]\u001b[A\n",
      " 46%|████▌     | 7176/15604 [00:03<00:03, 2468.25it/s]\u001b[A\n",
      " 48%|████▊     | 7442/15604 [00:03<00:03, 2512.13it/s]\u001b[A\n",
      " 49%|████▉     | 7711/15604 [00:03<00:03, 2560.75it/s]\u001b[A\n",
      " 51%|█████     | 7982/15604 [00:03<00:02, 2603.58it/s]\u001b[A\n",
      " 53%|█████▎    | 8251/15604 [00:03<00:02, 2628.49it/s]\u001b[A\n",
      " 55%|█████▍    | 8524/15604 [00:03<00:02, 2657.57it/s]\u001b[A\n",
      " 56%|█████▋    | 8793/15604 [00:03<00:02, 2660.65it/s]\u001b[A\n",
      " 58%|█████▊    | 9060/15604 [00:03<00:02, 2658.42it/s]\u001b[A\n",
      " 60%|█████▉    | 9327/15604 [00:04<00:02, 2661.05it/s]\u001b[A\n",
      " 61%|██████▏   | 9594/15604 [00:04<00:02, 2656.39it/s]\u001b[A\n",
      " 63%|██████▎   | 9860/15604 [00:04<00:02, 2652.19it/s]\u001b[A\n",
      " 65%|██████▍   | 10126/15604 [00:04<00:02, 2634.83it/s]\u001b[A\n",
      " 67%|██████▋   | 10390/15604 [00:04<00:01, 2626.50it/s]\u001b[A\n",
      " 68%|██████▊   | 10663/15604 [00:04<00:01, 2655.03it/s]\u001b[A\n",
      " 70%|███████   | 10935/15604 [00:04<00:01, 2670.94it/s]\u001b[A\n",
      " 72%|███████▏  | 11203/15604 [00:04<00:01, 2666.43it/s]\u001b[A\n",
      " 74%|███████▎  | 11476/15604 [00:04<00:01, 2683.16it/s]\u001b[A\n",
      " 75%|███████▌  | 11745/15604 [00:04<00:01, 2636.15it/s]\u001b[A\n",
      " 77%|███████▋  | 12009/15604 [00:05<00:01, 2541.73it/s]\u001b[A\n",
      " 79%|███████▊  | 12265/15604 [00:05<00:01, 2489.06it/s]\u001b[A\n",
      " 80%|████████  | 12518/15604 [00:05<00:01, 2498.98it/s]\u001b[A\n",
      " 82%|████████▏ | 12769/15604 [00:05<00:01, 2456.07it/s]\u001b[A\n",
      " 84%|████████▎ | 13031/15604 [00:05<00:01, 2502.60it/s]\u001b[A\n",
      " 85%|████████▌ | 13299/15604 [00:05<00:00, 2551.34it/s]\u001b[A\n",
      " 87%|████████▋ | 13560/15604 [00:05<00:00, 2568.19it/s]\u001b[A\n",
      " 89%|████████▊ | 13818/15604 [00:05<00:00, 2563.11it/s]\u001b[A\n",
      " 90%|█████████ | 14075/15604 [00:05<00:00, 2521.61it/s]\u001b[A\n",
      " 92%|█████████▏| 14328/15604 [00:05<00:00, 2488.89it/s]\u001b[A\n",
      " 93%|█████████▎| 14578/15604 [00:06<00:00, 2462.45it/s]\u001b[A\n",
      " 95%|█████████▌| 14825/15604 [00:06<00:00, 2400.55it/s]\u001b[A\n",
      " 97%|█████████▋| 15066/15604 [00:06<00:00, 2389.78it/s]\u001b[A\n",
      " 98%|█████████▊| 15306/15604 [00:06<00:00, 2286.25it/s]\u001b[A\n",
      "100%|█████████▉| 15536/15604 [00:06<00:00, 2123.24it/s]\u001b[A\n",
      "100%|██████████| 15604/15604 [00:06<00:00, 2367.35it/s]\u001b[A\n",
      "  0%|          | 0/15604 [00:00<?, ?it/s]\u001b[A\n",
      "\u001b[A\n",
      "  0%|          | 0/6057 [00:00<?, ?it/s]\u001b[A\n",
      "  2%|▏         | 128/6057 [00:00<00:04, 1278.86it/s]\u001b[A\n",
      "  6%|▌         | 338/6057 [00:00<00:03, 1447.72it/s]\u001b[A\n",
      "  9%|▉         | 542/6057 [00:00<00:03, 1582.32it/s]\u001b[A\n",
      " 13%|█▎        | 767/6057 [00:00<00:03, 1735.97it/s]\u001b[A\n",
      " 16%|█▌        | 968/6057 [00:00<00:02, 1805.58it/s]\u001b[A\n",
      " 19%|█▉        | 1136/6057 [00:00<00:02, 1673.10it/s]\u001b[A\n",
      " 22%|██▏       | 1357/6057 [00:00<00:02, 1804.40it/s]\u001b[A\n",
      " 26%|██▌       | 1586/6057 [00:00<00:02, 1924.28it/s]\u001b[A\n",
      " 30%|██▉       | 1809/6057 [00:00<00:02, 2004.13it/s]\u001b[A\n",
      " 34%|███▎      | 2032/6057 [00:01<00:01, 2063.60it/s]\u001b[A\n",
      " 37%|███▋      | 2257/6057 [00:01<00:01, 2115.83it/s]\u001b[A\n",
      " 41%|████      | 2470/6057 [00:01<00:01, 2113.20it/s]\u001b[A\n",
      " 44%|████▍     | 2683/6057 [00:01<00:01, 2098.32it/s]\u001b[A\n",
      " 48%|████▊     | 2902/6057 [00:01<00:01, 2123.00it/s]\u001b[A\n",
      " 52%|█████▏    | 3122/6057 [00:01<00:01, 2142.96it/s]\u001b[A\n",
      " 55%|█████▌    | 3348/6057 [00:01<00:01, 2175.52it/s]\u001b[A\n",
      " 59%|█████▉    | 3566/6057 [00:01<00:01, 2167.62it/s]\u001b[A\n",
      " 63%|██████▎   | 3789/6057 [00:01<00:01, 2183.06it/s]\u001b[A\n",
      " 66%|██████▋   | 4014/6057 [00:01<00:00, 2198.39it/s]\u001b[A\n",
      " 70%|███████   | 4240/6057 [00:02<00:00, 2213.00it/s]\u001b[A\n",
      " 74%|███████▎  | 4467/6057 [00:02<00:00, 2225.57it/s]\u001b[A\n",
      " 77%|███████▋  | 4690/6057 [00:02<00:00, 2212.05it/s]\u001b[A\n",
      " 81%|████████  | 4912/6057 [00:02<00:00, 2190.00it/s]\u001b[A\n",
      " 85%|████████▍ | 5132/6057 [00:02<00:00, 2192.12it/s]\u001b[A\n",
      " 88%|████████▊ | 5355/6057 [00:02<00:00, 2197.33it/s]\u001b[A\n",
      " 92%|█████████▏| 5575/6057 [00:02<00:00, 2168.61it/s]\u001b[A\n",
      " 96%|█████████▌| 5793/6057 [00:02<00:00, 2171.28it/s]\u001b[A\n",
      " 99%|█████████▉| 6011/6057 [00:02<00:00, 2097.48it/s]\u001b[A\n",
      "100%|██████████| 6057/6057 [00:02<00:00, 2102.97it/s]\u001b[A\n",
      "  0%|          | 0/6057 [00:00<?, ?it/s]\u001b[A"
     ]
    },
    {
     "ename": "ImportError",
     "evalue": "[joblib] Attempting to do parallel computing without protecting your import on a system that does not support forking. To use parallel-computing in a script, you must protect your main loop using \"if __name__ == '__main__'\". Please see the joblib documentation on Parallel for more information",
     "output_type": "error",
     "traceback": [
      "\u001b[1;31m---------------------------------------------------------------------------\u001b[0m",
      "\u001b[1;31mImportError\u001b[0m                               Traceback (most recent call last)",
      "\u001b[1;32m<ipython-input-34-57b24b601506>\u001b[0m in \u001b[0;36m<module>\u001b[1;34m()\u001b[0m\n\u001b[0;32m      1\u001b[0m \u001b[0mnum_cpus\u001b[0m \u001b[1;33m=\u001b[0m \u001b[1;36m2\u001b[0m\u001b[1;33m\u001b[0m\u001b[0m\n\u001b[1;32m----> 2\u001b[1;33m \u001b[0morf_type_groups\u001b[0m\u001b[1;33m.\u001b[0m\u001b[0mapply\u001b[0m\u001b[1;33m(\u001b[0m\u001b[0mrun_all\u001b[0m\u001b[1;33m,\u001b[0m \u001b[0mprofiles\u001b[0m\u001b[1;33m,\u001b[0m \u001b[0mnum_cpus\u001b[0m\u001b[1;33m)\u001b[0m\u001b[1;33m\u001b[0m\u001b[0m\n\u001b[0m",
      "\u001b[1;32m/home/bmalone/.virtualenvs/rpbp/lib/python3.5/site-packages/pandas/core/groupby.py\u001b[0m in \u001b[0;36mapply\u001b[1;34m(self, func, *args, **kwargs)\u001b[0m\n\u001b[0;32m    649\u001b[0m         \u001b[1;31m# ignore SettingWithCopy here in case the user mutates\u001b[0m\u001b[1;33m\u001b[0m\u001b[1;33m\u001b[0m\u001b[0m\n\u001b[0;32m    650\u001b[0m         \u001b[1;32mwith\u001b[0m \u001b[0moption_context\u001b[0m\u001b[1;33m(\u001b[0m\u001b[1;34m'mode.chained_assignment'\u001b[0m\u001b[1;33m,\u001b[0m \u001b[1;32mNone\u001b[0m\u001b[1;33m)\u001b[0m\u001b[1;33m:\u001b[0m\u001b[1;33m\u001b[0m\u001b[0m\n\u001b[1;32m--> 651\u001b[1;33m             \u001b[1;32mreturn\u001b[0m \u001b[0mself\u001b[0m\u001b[1;33m.\u001b[0m\u001b[0m_python_apply_general\u001b[0m\u001b[1;33m(\u001b[0m\u001b[0mf\u001b[0m\u001b[1;33m)\u001b[0m\u001b[1;33m\u001b[0m\u001b[0m\n\u001b[0m\u001b[0;32m    652\u001b[0m \u001b[1;33m\u001b[0m\u001b[0m\n\u001b[0;32m    653\u001b[0m     \u001b[1;32mdef\u001b[0m \u001b[0m_python_apply_general\u001b[0m\u001b[1;33m(\u001b[0m\u001b[0mself\u001b[0m\u001b[1;33m,\u001b[0m \u001b[0mf\u001b[0m\u001b[1;33m)\u001b[0m\u001b[1;33m:\u001b[0m\u001b[1;33m\u001b[0m\u001b[0m\n",
      "\u001b[1;32m/home/bmalone/.virtualenvs/rpbp/lib/python3.5/site-packages/pandas/core/groupby.py\u001b[0m in \u001b[0;36m_python_apply_general\u001b[1;34m(self, f)\u001b[0m\n\u001b[0;32m    653\u001b[0m     \u001b[1;32mdef\u001b[0m \u001b[0m_python_apply_general\u001b[0m\u001b[1;33m(\u001b[0m\u001b[0mself\u001b[0m\u001b[1;33m,\u001b[0m \u001b[0mf\u001b[0m\u001b[1;33m)\u001b[0m\u001b[1;33m:\u001b[0m\u001b[1;33m\u001b[0m\u001b[0m\n\u001b[0;32m    654\u001b[0m         keys, values, mutated = self.grouper.apply(f, self._selected_obj,\n\u001b[1;32m--> 655\u001b[1;33m                                                    self.axis)\n\u001b[0m\u001b[0;32m    656\u001b[0m \u001b[1;33m\u001b[0m\u001b[0m\n\u001b[0;32m    657\u001b[0m         return self._wrap_applied_output(\n",
      "\u001b[1;32m/home/bmalone/.virtualenvs/rpbp/lib/python3.5/site-packages/pandas/core/groupby.py\u001b[0m in \u001b[0;36mapply\u001b[1;34m(self, f, data, axis)\u001b[0m\n\u001b[0;32m   1525\u001b[0m             \u001b[1;31m# group might be modified\u001b[0m\u001b[1;33m\u001b[0m\u001b[1;33m\u001b[0m\u001b[0m\n\u001b[0;32m   1526\u001b[0m             \u001b[0mgroup_axes\u001b[0m \u001b[1;33m=\u001b[0m \u001b[0m_get_axes\u001b[0m\u001b[1;33m(\u001b[0m\u001b[0mgroup\u001b[0m\u001b[1;33m)\u001b[0m\u001b[1;33m\u001b[0m\u001b[0m\n\u001b[1;32m-> 1527\u001b[1;33m             \u001b[0mres\u001b[0m \u001b[1;33m=\u001b[0m \u001b[0mf\u001b[0m\u001b[1;33m(\u001b[0m\u001b[0mgroup\u001b[0m\u001b[1;33m)\u001b[0m\u001b[1;33m\u001b[0m\u001b[0m\n\u001b[0m\u001b[0;32m   1528\u001b[0m             \u001b[1;32mif\u001b[0m \u001b[1;32mnot\u001b[0m \u001b[0m_is_indexed_like\u001b[0m\u001b[1;33m(\u001b[0m\u001b[0mres\u001b[0m\u001b[1;33m,\u001b[0m \u001b[0mgroup_axes\u001b[0m\u001b[1;33m)\u001b[0m\u001b[1;33m:\u001b[0m\u001b[1;33m\u001b[0m\u001b[0m\n\u001b[0;32m   1529\u001b[0m                 \u001b[0mmutated\u001b[0m \u001b[1;33m=\u001b[0m \u001b[1;32mTrue\u001b[0m\u001b[1;33m\u001b[0m\u001b[0m\n",
      "\u001b[1;32m/home/bmalone/.virtualenvs/rpbp/lib/python3.5/site-packages/pandas/core/groupby.py\u001b[0m in \u001b[0;36mf\u001b[1;34m(g)\u001b[0m\n\u001b[0;32m    645\u001b[0m         \u001b[1;33m@\u001b[0m\u001b[0mwraps\u001b[0m\u001b[1;33m(\u001b[0m\u001b[0mfunc\u001b[0m\u001b[1;33m)\u001b[0m\u001b[1;33m\u001b[0m\u001b[0m\n\u001b[0;32m    646\u001b[0m         \u001b[1;32mdef\u001b[0m \u001b[0mf\u001b[0m\u001b[1;33m(\u001b[0m\u001b[0mg\u001b[0m\u001b[1;33m)\u001b[0m\u001b[1;33m:\u001b[0m\u001b[1;33m\u001b[0m\u001b[0m\n\u001b[1;32m--> 647\u001b[1;33m             \u001b[1;32mreturn\u001b[0m \u001b[0mfunc\u001b[0m\u001b[1;33m(\u001b[0m\u001b[0mg\u001b[0m\u001b[1;33m,\u001b[0m \u001b[1;33m*\u001b[0m\u001b[0margs\u001b[0m\u001b[1;33m,\u001b[0m \u001b[1;33m**\u001b[0m\u001b[0mkwargs\u001b[0m\u001b[1;33m)\u001b[0m\u001b[1;33m\u001b[0m\u001b[0m\n\u001b[0m\u001b[0;32m    648\u001b[0m \u001b[1;33m\u001b[0m\u001b[0m\n\u001b[0;32m    649\u001b[0m         \u001b[1;31m# ignore SettingWithCopy here in case the user mutates\u001b[0m\u001b[1;33m\u001b[0m\u001b[1;33m\u001b[0m\u001b[0m\n",
      "\u001b[1;32m<ipython-input-33-f2c29a26221e>\u001b[0m in \u001b[0;36mrun_all\u001b[1;34m(g, profiles, num_cpus)\u001b[0m\n\u001b[0;32m      3\u001b[0m \u001b[1;33m\u001b[0m\u001b[0m\n\u001b[0;32m      4\u001b[0m     \u001b[0mg_profiles\u001b[0m \u001b[1;33m=\u001b[0m \u001b[0mparallel\u001b[0m\u001b[1;33m.\u001b[0m\u001b[0mapply_df_simple\u001b[0m\u001b[1;33m(\u001b[0m\u001b[0mg\u001b[0m\u001b[1;33m,\u001b[0m \u001b[0mget_profile\u001b[0m\u001b[1;33m,\u001b[0m \u001b[0mprofiles\u001b[0m\u001b[1;33m,\u001b[0m \u001b[0mprogress_bar\u001b[0m\u001b[1;33m=\u001b[0m\u001b[1;32mTrue\u001b[0m\u001b[1;33m)\u001b[0m\u001b[1;33m\u001b[0m\u001b[0m\n\u001b[1;32m----> 5\u001b[1;33m     \u001b[0mwindows\u001b[0m \u001b[1;33m=\u001b[0m \u001b[0mparallel\u001b[0m\u001b[1;33m.\u001b[0m\u001b[0mapply_parallel_iter\u001b[0m\u001b[1;33m(\u001b[0m\u001b[0mg_profiles\u001b[0m\u001b[1;33m,\u001b[0m \u001b[0mnum_cpus\u001b[0m\u001b[1;33m,\u001b[0m \u001b[0mget_windows\u001b[0m\u001b[1;33m,\u001b[0m \u001b[0mprogress_bar\u001b[0m\u001b[1;33m=\u001b[0m\u001b[1;32mTrue\u001b[0m\u001b[1;33m)\u001b[0m\u001b[1;33m\u001b[0m\u001b[0m\n\u001b[0m\u001b[0;32m      6\u001b[0m \u001b[1;33m\u001b[0m\u001b[0m\n\u001b[0;32m      7\u001b[0m     \u001b[0mplot_windows\u001b[0m\u001b[1;33m(\u001b[0m\u001b[0mwindows\u001b[0m\u001b[1;33m,\u001b[0m \u001b[0morf_type\u001b[0m\u001b[1;33m)\u001b[0m\u001b[1;33m\u001b[0m\u001b[0m\n",
      "\u001b[1;32m/home/bmalone/.virtualenvs/rpbp/lib/python3.5/site-packages/misc/parallel.py\u001b[0m in \u001b[0;36mapply_parallel_iter\u001b[1;34m(items, num_procs, func, progress_bar, total, num_groups, *args)\u001b[0m\n\u001b[0;32m     59\u001b[0m         \u001b[1;32mimport\u001b[0m \u001b[0mtqdm\u001b[0m\u001b[1;33m\u001b[0m\u001b[0m\n\u001b[0;32m     60\u001b[0m         ret_list = joblib.Parallel(n_jobs=num_procs)(joblib.delayed(func)(item, *args) \n\u001b[1;32m---> 61\u001b[1;33m             for item in tqdm.tqdm(items, leave=True, file=sys.stdout, total=total))\n\u001b[0m\u001b[0;32m     62\u001b[0m     \u001b[1;32melse\u001b[0m\u001b[1;33m:\u001b[0m\u001b[1;33m\u001b[0m\u001b[0m\n\u001b[0;32m     63\u001b[0m         \u001b[0mret_list\u001b[0m \u001b[1;33m=\u001b[0m \u001b[0mjoblib\u001b[0m\u001b[1;33m.\u001b[0m\u001b[0mParallel\u001b[0m\u001b[1;33m(\u001b[0m\u001b[0mn_jobs\u001b[0m\u001b[1;33m=\u001b[0m\u001b[0mnum_procs\u001b[0m\u001b[1;33m)\u001b[0m\u001b[1;33m(\u001b[0m\u001b[0mjoblib\u001b[0m\u001b[1;33m.\u001b[0m\u001b[0mdelayed\u001b[0m\u001b[1;33m(\u001b[0m\u001b[0mfunc\u001b[0m\u001b[1;33m)\u001b[0m\u001b[1;33m(\u001b[0m\u001b[0mitem\u001b[0m\u001b[1;33m,\u001b[0m \u001b[1;33m*\u001b[0m\u001b[0margs\u001b[0m\u001b[1;33m)\u001b[0m \u001b[1;32mfor\u001b[0m \u001b[0mitem\u001b[0m \u001b[1;32min\u001b[0m \u001b[0mitems\u001b[0m\u001b[1;33m)\u001b[0m\u001b[1;33m\u001b[0m\u001b[0m\n",
      "\u001b[1;32m/home/bmalone/.virtualenvs/rpbp/lib/python3.5/site-packages/joblib/parallel.py\u001b[0m in \u001b[0;36m__call__\u001b[1;34m(self, iterable)\u001b[0m\n\u001b[0;32m    764\u001b[0m         \u001b[0mself\u001b[0m\u001b[1;33m.\u001b[0m\u001b[0m_aborting\u001b[0m \u001b[1;33m=\u001b[0m \u001b[1;32mFalse\u001b[0m\u001b[1;33m\u001b[0m\u001b[0m\n\u001b[0;32m    765\u001b[0m         \u001b[1;32mif\u001b[0m \u001b[1;32mnot\u001b[0m \u001b[0mself\u001b[0m\u001b[1;33m.\u001b[0m\u001b[0m_managed_pool\u001b[0m\u001b[1;33m:\u001b[0m\u001b[1;33m\u001b[0m\u001b[0m\n\u001b[1;32m--> 766\u001b[1;33m             \u001b[0mn_jobs\u001b[0m \u001b[1;33m=\u001b[0m \u001b[0mself\u001b[0m\u001b[1;33m.\u001b[0m\u001b[0m_initialize_pool\u001b[0m\u001b[1;33m(\u001b[0m\u001b[1;33m)\u001b[0m\u001b[1;33m\u001b[0m\u001b[0m\n\u001b[0m\u001b[0;32m    767\u001b[0m         \u001b[1;32melse\u001b[0m\u001b[1;33m:\u001b[0m\u001b[1;33m\u001b[0m\u001b[0m\n\u001b[0;32m    768\u001b[0m             \u001b[0mn_jobs\u001b[0m \u001b[1;33m=\u001b[0m \u001b[0mself\u001b[0m\u001b[1;33m.\u001b[0m\u001b[0m_effective_n_jobs\u001b[0m\u001b[1;33m(\u001b[0m\u001b[1;33m)\u001b[0m\u001b[1;33m\u001b[0m\u001b[0m\n",
      "\u001b[1;32m/home/bmalone/.virtualenvs/rpbp/lib/python3.5/site-packages/joblib/parallel.py\u001b[0m in \u001b[0;36m_initialize_pool\u001b[1;34m(self)\u001b[0m\n\u001b[0;32m    513\u001b[0m                 \u001b[0malready_forked\u001b[0m \u001b[1;33m=\u001b[0m \u001b[0mint\u001b[0m\u001b[1;33m(\u001b[0m\u001b[0mos\u001b[0m\u001b[1;33m.\u001b[0m\u001b[0menviron\u001b[0m\u001b[1;33m.\u001b[0m\u001b[0mget\u001b[0m\u001b[1;33m(\u001b[0m\u001b[0mJOBLIB_SPAWNED_PROCESS\u001b[0m\u001b[1;33m,\u001b[0m \u001b[1;36m0\u001b[0m\u001b[1;33m)\u001b[0m\u001b[1;33m)\u001b[0m\u001b[1;33m\u001b[0m\u001b[0m\n\u001b[0;32m    514\u001b[0m                 \u001b[1;32mif\u001b[0m \u001b[0malready_forked\u001b[0m\u001b[1;33m:\u001b[0m\u001b[1;33m\u001b[0m\u001b[0m\n\u001b[1;32m--> 515\u001b[1;33m                     raise ImportError('[joblib] Attempting to do parallel computing '\n\u001b[0m\u001b[0;32m    516\u001b[0m                             \u001b[1;34m'without protecting your import on a system that does '\u001b[0m\u001b[1;33m\u001b[0m\u001b[0m\n\u001b[0;32m    517\u001b[0m                             \u001b[1;34m'not support forking. To use parallel-computing in a '\u001b[0m\u001b[1;33m\u001b[0m\u001b[0m\n",
      "\u001b[1;31mImportError\u001b[0m: [joblib] Attempting to do parallel computing without protecting your import on a system that does not support forking. To use parallel-computing in a script, you must protect your main loop using \"if __name__ == '__main__'\". Please see the joblib documentation on Parallel for more information"
     ]
    },
    {
     "data": {
      "image/png": "[encoded data removed]",
      "text/plain": [
       "<matplotlib.figure.Figure at 0x7f6acd39fe10>"
      ]
     },
     "metadata": {},
     "output_type": "display_data"
    },
    {
     "data": {
      "image/png": "[encoded data removed]",
      "text/plain": [
       "<matplotlib.figure.Figure at 0x7f6ae8e1bda0>"
      ]
     },
     "metadata": {},
     "output_type": "display_data"
    },
    {
     "data": {
      "image/png": "[encoded data removed]",
      "text/plain": [
       "<matplotlib.figure.Figure at 0x7f6ad78272e8>"
      ]
     },
     "metadata": {},
     "output_type": "display_data"
    },
    {
     "data": {
      "image/png": "[encoded data removed]",
      "text/plain": [
       "<matplotlib.figure.Figure at 0x7f6a1e5db0b8>"
      ]
     },
     "metadata": {},
     "output_type": "display_data"
    },
    {
     "data": {
      "image/png": "[encoded data removed]",
      "text/plain": [
       "<matplotlib.figure.Figure at 0x7f6acdaed860>"
      ]
     },
     "metadata": {},
     "output_type": "display_data"
    },
    {
     "data": {
      "image/png": "[encoded data removed]",
      "text/plain": [
       "<matplotlib.figure.Figure at 0x7f6a1e4a0898>"
      ]
     },
     "metadata": {},
     "output_type": "display_data"
    },
    {
     "data": {
      "image/png": "[encoded data removed]",
      "text/plain": [
       "<matplotlib.figure.Figure at 0x7f6ad415a198>"
      ]
     },
     "metadata": {},
     "output_type": "display_data"
    },
    {
     "data": {
      "image/png": "[encoded data removed]",
      "text/plain": [
       "<matplotlib.figure.Figure at 0x7f6acdc57588>"
      ]
     },
     "metadata": {},
     "output_type": "display_data"
    },
    {
     "data": {
      "image/png": "[encoded data removed]",
      "text/plain": [
       "<matplotlib.figure.Figure at 0x7f6accdd39e8>"
      ]
     },
     "metadata": {},
     "output_type": "display_data"
    },
    {
     "data": {
      "image/png": "[encoded data removed]",
      "text/plain": [
       "<matplotlib.figure.Figure at 0x7f6accdfb9e8>"
      ]
     },
     "metadata": {},
     "output_type": "display_data"
    }
   ],
   "source": [
    "num_cpus = 2\n",
    "orf_type_groups.apply(run_all, profiles, num_cpus)"
   ]
  },
  {
   "cell_type": "code",
   "execution_count": 31,
   "metadata": {
    "collapsed": false
   },
   "outputs": [
    {
     "name": "stdout",
     "output_type": "stream",
     "text": [
      "\n",
      "  0%|          | 0/6057 [00:00<?, ?it/s]\u001b[A\n",
      "  2%|▏         | 112/6057 [00:00<00:05, 1116.45it/s]\u001b[A\n",
      "  5%|▌         | 309/6057 [00:00<00:04, 1282.77it/s]\u001b[A\n",
      "  8%|▊         | 490/6057 [00:00<00:03, 1404.78it/s]\u001b[A\n",
      " 11%|█▏        | 696/6057 [00:00<00:03, 1552.79it/s]\u001b[A\n",
      " 15%|█▍        | 896/6057 [00:00<00:03, 1663.94it/s]\u001b[A\n",
      " 18%|█▊        | 1092/6057 [00:00<00:02, 1738.02it/s]\u001b[A\n",
      " 21%|██▏       | 1299/6057 [00:00<00:02, 1823.69it/s]\u001b[A\n",
      " 25%|██▍       | 1501/6057 [00:00<00:02, 1877.52it/s]\u001b[A\n",
      " 28%|██▊       | 1701/6057 [00:00<00:02, 1910.92it/s]\u001b[A\n",
      " 31%|███▏      | 1901/6057 [00:01<00:02, 1931.75it/s]\u001b[A\n",
      " 35%|███▍      | 2097/6057 [00:01<00:02, 1938.43it/s]\u001b[A\n",
      " 38%|███▊      | 2291/6057 [00:01<00:02, 1846.77it/s]\u001b[A\n",
      " 41%|████      | 2494/6057 [00:01<00:01, 1896.95it/s]\u001b[A\n",
      " 45%|████▍     | 2700/6057 [00:01<00:01, 1938.16it/s]\u001b[A\n",
      " 48%|████▊     | 2902/6057 [00:01<00:01, 1961.70it/s]\u001b[A\n",
      " 51%|█████     | 3099/6057 [00:01<00:01, 1916.35it/s]\u001b[A\n",
      " 54%|█████▍    | 3292/6057 [00:01<00:01, 1906.88it/s]\u001b[A\n",
      " 58%|█████▊    | 3492/6057 [00:01<00:01, 1931.66it/s]\u001b[A\n",
      " 61%|██████    | 3689/6057 [00:01<00:01, 1936.37it/s]\u001b[A\n",
      " 64%|██████▍   | 3884/6057 [00:02<00:01, 1938.10it/s]\u001b[A\n",
      " 67%|██████▋   | 4079/6057 [00:02<00:01, 1932.53it/s]\u001b[A\n",
      " 71%|███████   | 4273/6057 [00:02<00:00, 1931.55it/s]\u001b[A\n",
      " 74%|███████▍  | 4470/6057 [00:02<00:00, 1941.12it/s]\u001b[A\n",
      " 77%|███████▋  | 4665/6057 [00:02<00:00, 1941.50it/s]\u001b[A\n",
      " 80%|████████  | 4860/6057 [00:02<00:00, 1936.91it/s]\u001b[A\n",
      " 84%|████████▎ | 5065/6057 [00:02<00:00, 1966.95it/s]\u001b[A\n",
      " 87%|████████▋ | 5267/6057 [00:02<00:00, 1979.45it/s]\u001b[A\n",
      " 90%|█████████ | 5466/6057 [00:02<00:00, 1936.72it/s]\u001b[A\n",
      " 93%|█████████▎| 5660/6057 [00:02<00:00, 1809.86it/s]\u001b[A\n",
      " 96%|█████████▋| 5843/6057 [00:03<00:00, 1608.73it/s]\u001b[A\n",
      " 99%|█████████▉| 6010/6057 [00:03<00:00, 1498.63it/s]\u001b[A\n",
      "100%|██████████| 6057/6057 [00:03<00:00, 1844.00it/s]\u001b[A\n",
      "  0%|          | 0/6057 [00:00<?, ?it/s]\u001b[A\n",
      "  0%|          | 1/6057 [00:00<22:29,  4.49it/s]\u001b[A\n",
      "  5%|▌         | 308/6057 [00:00<14:57,  6.40it/s]\u001b[A\n",
      "  8%|▊         | 484/6057 [00:00<10:10,  9.12it/s]\u001b[A\n",
      " 11%|█         | 660/6057 [00:00<06:55, 13.00it/s]\u001b[A\n",
      " 14%|█▍        | 836/6057 [00:00<04:42, 18.49it/s]\u001b[A\n",
      " 17%|█▋        | 1012/6057 [00:01<03:13, 26.01it/s]\u001b[A\n",
      " 20%|█▉        | 1188/6057 [00:01<02:12, 36.76it/s]\u001b[A\n",
      " 23%|██▎       | 1364/6057 [00:01<01:31, 51.52it/s]\u001b[A\n",
      " 25%|██▌       | 1540/6057 [00:01<01:03, 71.66it/s]\u001b[A\n",
      " 28%|██▊       | 1716/6057 [00:02<00:44, 98.05it/s]\u001b[A\n",
      " 31%|███       | 1892/6057 [00:02<00:31, 131.95it/s]\u001b[A\n",
      " 34%|███▍      | 2068/6057 [00:02<00:23, 173.29it/s]\u001b[A\n",
      " 37%|███▋      | 2244/6057 [00:02<00:16, 224.88it/s]\u001b[A\n",
      " 40%|███▉      | 2420/6057 [00:03<00:13, 274.30it/s]\u001b[A\n",
      " 43%|████▎     | 2596/6057 [00:03<00:10, 342.43it/s]\u001b[A\n",
      " 46%|████▌     | 2772/6057 [00:03<00:07, 416.04it/s]\u001b[A\n",
      " 49%|████▊     | 2948/6057 [00:03<00:06, 445.32it/s]\u001b[A\n",
      " 52%|█████▏    | 3124/6057 [00:04<00:06, 445.85it/s]\u001b[A\n",
      " 54%|█████▍    | 3300/6057 [00:04<00:05, 504.23it/s]\u001b[A\n",
      " 57%|█████▋    | 3476/6057 [00:04<00:05, 508.51it/s]\u001b[A\n",
      " 60%|██████    | 3652/6057 [00:05<00:04, 498.63it/s]\u001b[A\n",
      " 63%|██████▎   | 3828/6057 [00:05<00:04, 516.84it/s]\u001b[A\n",
      " 66%|██████▌   | 4004/6057 [00:05<00:03, 530.49it/s]\u001b[A\n",
      " 69%|██████▉   | 4180/6057 [00:06<00:03, 524.72it/s]\u001b[A\n",
      " 72%|███████▏  | 4356/6057 [00:06<00:03, 518.00it/s]\u001b[A\n",
      " 75%|███████▍  | 4532/6057 [00:06<00:02, 577.34it/s]\u001b[A\n",
      " 78%|███████▊  | 4708/6057 [00:06<00:02, 636.95it/s]\u001b[A\n",
      " 81%|████████  | 4884/6057 [00:07<00:01, 603.75it/s]\u001b[A\n",
      " 84%|████████▎ | 5060/6057 [00:07<00:01, 669.55it/s]\u001b[A\n",
      " 86%|████████▋ | 5236/6057 [00:07<00:01, 667.38it/s]\u001b[A\n",
      " 89%|████████▉ | 5412/6057 [00:08<00:01, 571.04it/s]\u001b[A\n",
      " 92%|█████████▏| 5588/6057 [00:08<00:00, 593.87it/s]\u001b[A\n",
      " 95%|█████████▌| 5764/6057 [00:08<00:00, 692.57it/s]\u001b[A\n",
      " 98%|█████████▊| 5940/6057 [00:08<00:00, 702.13it/s]\u001b[A\n",
      "100%|██████████| 6057/6057 [00:08<00:00, 684.21it/s]\u001b[A"
     ]
    },
    {
     "data": {
      "image/png": "[encoded data removed]",
      "text/plain": [
       "<matplotlib.figure.Figure at 0x7f6acdbed860>"
      ]
     },
     "metadata": {},
     "output_type": "display_data"
    }
   ],
   "source": [
    "run_all(g, profiles)"
   ]
  },
  {
   "cell_type": "code",
   "execution_count": 16,
   "metadata": {
    "collapsed": false
   },
   "outputs": [
    {
     "data": {
      "text/plain": [
       "orf_type\n",
       "canonical               6057\n",
       "canonical_extended       598\n",
       "canonical_truncated      595\n",
       "five_prime                19\n",
       "five_prime_overlap       184\n",
       "noncoding                118\n",
       "suspect_overlap          420\n",
       "three_prime               11\n",
       "three_prime_overlap     1287\n",
       "within                 15604\n",
       "dtype: int64"
      ]
     },
     "execution_count": 16,
     "metadata": {},
     "output_type": "execute_result"
    }
   ],
   "source": [
    "orf_type_groups.apply()"
   ]
  },
  {
   "cell_type": "code",
   "execution_count": 19,
   "metadata": {
    "collapsed": false,
    "scrolled": true
   },
   "outputs": [
    {
     "name": "stdout",
     "output_type": "stream",
     "text": [
      "\n",
      "  0%|          | 0/6057 [00:00<?, ?it/s]\u001b[A\n",
      "  2%|▏         | 121/6057 [00:00<00:04, 1207.32it/s]\u001b[A\n",
      "  6%|▌         | 364/6057 [00:00<00:04, 1421.60it/s]\u001b[A\n",
      "  9%|▉         | 558/6057 [00:00<00:03, 1544.81it/s]\u001b[A\n",
      " 13%|█▎        | 803/6057 [00:00<00:03, 1736.83it/s]\u001b[A\n",
      " 17%|█▋        | 1052/6057 [00:00<00:02, 1909.94it/s]\u001b[A\n",
      " 21%|██▏       | 1301/6057 [00:00<00:02, 2048.86it/s]\u001b[A\n",
      " 25%|██▌       | 1519/6057 [00:00<00:02, 2085.59it/s]\u001b[A\n",
      " 29%|██▉       | 1767/6057 [00:00<00:01, 2184.26it/s]\u001b[A\n",
      " 33%|███▎      | 1988/6057 [00:00<00:01, 2175.15it/s]\u001b[A\n",
      " 37%|███▋      | 2235/6057 [00:01<00:01, 2255.46it/s]\u001b[A\n",
      " 41%|████      | 2483/6057 [00:01<00:01, 2318.30it/s]\u001b[A\n",
      " 45%|████▌     | 2742/6057 [00:01<00:01, 2386.13it/s]\u001b[A\n",
      " 49%|████▉     | 2989/6057 [00:01<00:01, 2409.53it/s]\u001b[A\n",
      " 54%|█████▎    | 3246/6057 [00:01<00:01, 2448.50it/s]\u001b[A\n",
      " 58%|█████▊    | 3506/6057 [00:01<00:01, 2488.70it/s]\u001b[A\n",
      " 62%|██████▏   | 3765/6057 [00:01<00:00, 2514.24it/s]\u001b[A\n",
      " 66%|██████▋   | 4018/6057 [00:01<00:00, 2433.87it/s]\u001b[A\n",
      " 70%|███████   | 4263/6057 [00:01<00:00, 1806.70it/s]\u001b[A\n",
      " 74%|███████▍  | 4468/6057 [00:02<00:00, 1758.36it/s]\u001b[A\n",
      " 77%|███████▋  | 4693/6057 [00:02<00:00, 1880.90it/s]\u001b[A\n",
      " 82%|████████▏ | 4947/6057 [00:02<00:00, 2034.30it/s]\u001b[A\n",
      " 86%|████████▌ | 5207/6057 [00:02<00:00, 2176.34it/s]\u001b[A\n",
      " 90%|█████████ | 5465/6057 [00:02<00:00, 2282.99it/s]\u001b[A\n",
      " 94%|█████████▍| 5708/6057 [00:02<00:00, 2324.52it/s]\u001b[A\n",
      " 98%|█████████▊| 5948/6057 [00:02<00:00, 2345.14it/s]\u001b[A\n",
      "100%|██████████| 6057/6057 [00:02<00:00, 2223.03it/s]\u001b[A\n",
      "  0%|          | 0/6057 [00:00<?, ?it/s]\u001b[A\n",
      "  0%|          | 1/6057 [00:00<18:31,  5.45it/s]\u001b[A\n",
      "  6%|▋         | 388/6057 [00:00<12:09,  7.77it/s]\u001b[A\n",
      "  8%|▊         | 484/6057 [00:00<08:23, 11.06it/s]\u001b[A\n",
      " 10%|▉         | 580/6057 [00:00<05:48, 15.71it/s]\u001b[A\n",
      " 11%|█         | 676/6057 [00:00<04:02, 22.23it/s]\u001b[A\n",
      " 13%|█▎        | 772/6057 [00:01<02:50, 30.92it/s]\u001b[A\n",
      " 16%|█▌        | 964/6057 [00:01<01:57, 43.52it/s]\u001b[A\n",
      " 18%|█▊        | 1060/6057 [00:01<01:22, 60.60it/s]\u001b[A\n",
      " 19%|█▉        | 1156/6057 [00:01<00:58, 84.02it/s]\u001b[A\n",
      " 21%|██        | 1252/6057 [00:01<00:41, 114.69it/s]\u001b[A\n",
      " 22%|██▏       | 1348/6057 [00:01<00:30, 152.86it/s]\u001b[A\n",
      " 24%|██▍       | 1444/6057 [00:01<00:23, 200.14it/s]\u001b[A\n",
      " 25%|██▌       | 1540/6057 [00:02<00:17, 256.61it/s]\u001b[A\n",
      " 27%|██▋       | 1636/6057 [00:02<00:13, 322.34it/s]\u001b[A\n",
      " 29%|██▊       | 1732/6057 [00:02<00:11, 387.96it/s]\u001b[A\n",
      " 30%|███       | 1828/6057 [00:02<00:09, 444.87it/s]\u001b[A\n",
      " 32%|███▏      | 1924/6057 [00:02<00:08, 487.63it/s]\u001b[A\n",
      " 33%|███▎      | 2020/6057 [00:02<00:07, 535.60it/s]\u001b[A\n",
      " 35%|███▍      | 2116/6057 [00:02<00:07, 546.40it/s]\u001b[A\n",
      " 37%|███▋      | 2212/6057 [00:03<00:06, 604.74it/s]\u001b[A\n",
      " 38%|███▊      | 2308/6057 [00:03<00:06, 555.91it/s]\u001b[A\n",
      " 40%|███▉      | 2404/6057 [00:03<00:06, 535.11it/s]\u001b[A\n",
      " 41%|████▏     | 2500/6057 [00:03<00:06, 575.30it/s]\u001b[A\n",
      " 43%|████▎     | 2596/6057 [00:03<00:05, 592.30it/s]\u001b[A\n",
      " 44%|████▍     | 2692/6057 [00:03<00:05, 585.91it/s]\u001b[A\n",
      " 46%|████▌     | 2788/6057 [00:04<00:05, 583.60it/s]\u001b[A\n",
      " 48%|████▊     | 2884/6057 [00:04<00:05, 614.52it/s]\u001b[A\n",
      " 49%|████▉     | 2980/6057 [00:04<00:04, 676.03it/s]\u001b[A\n",
      " 51%|█████     | 3076/6057 [00:04<00:04, 607.07it/s]\u001b[A\n",
      " 54%|█████▍    | 3268/6057 [00:04<00:04, 602.80it/s]\u001b[A\n",
      " 56%|█████▌    | 3364/6057 [00:04<00:04, 628.19it/s]\u001b[A\n",
      " 57%|█████▋    | 3460/6057 [00:05<00:03, 689.10it/s]\u001b[A\n",
      " 59%|█████▊    | 3556/6057 [00:05<00:03, 749.59it/s]\u001b[A\n",
      " 60%|██████    | 3652/6057 [00:05<00:03, 781.90it/s]\u001b[A\n",
      " 62%|██████▏   | 3748/6057 [00:05<00:03, 731.51it/s]\u001b[A\n",
      " 63%|██████▎   | 3844/6057 [00:05<00:03, 698.43it/s]\u001b[A\n",
      " 65%|██████▌   | 3940/6057 [00:05<00:03, 682.35it/s]\u001b[A\n",
      " 67%|██████▋   | 4036/6057 [00:05<00:02, 708.80it/s]\u001b[A\n",
      " 68%|██████▊   | 4132/6057 [00:05<00:02, 708.36it/s]\u001b[A\n",
      " 70%|██████▉   | 4228/6057 [00:06<00:02, 700.19it/s]\u001b[A\n",
      " 71%|███████▏  | 4324/6057 [00:06<00:02, 714.02it/s]\u001b[A\n",
      " 73%|███████▎  | 4420/6057 [00:06<00:02, 564.66it/s]\u001b[A\n",
      " 75%|███████▍  | 4516/6057 [00:06<00:02, 518.71it/s]\u001b[A\n",
      " 76%|███████▌  | 4612/6057 [00:06<00:02, 542.86it/s]\u001b[A\n",
      " 78%|███████▊  | 4708/6057 [00:06<00:02, 608.97it/s]\u001b[A\n",
      " 79%|███████▉  | 4804/6057 [00:07<00:01, 650.63it/s]\u001b[A\n",
      " 81%|████████  | 4900/6057 [00:07<00:01, 658.80it/s]\u001b[A\n",
      " 82%|████████▏ | 4996/6057 [00:07<00:01, 702.76it/s]\u001b[A\n",
      " 84%|████████▍ | 5092/6057 [00:07<00:01, 704.80it/s]\u001b[A\n",
      " 86%|████████▌ | 5188/6057 [00:07<00:01, 676.57it/s]\u001b[A\n",
      " 87%|████████▋ | 5284/6057 [00:07<00:01, 657.62it/s]\u001b[A\n",
      " 89%|████████▉ | 5380/6057 [00:07<00:01, 676.48it/s]\u001b[A\n",
      " 92%|█████████▏| 5572/6057 [00:08<00:00, 736.82it/s]\u001b[A\n",
      " 94%|█████████▎| 5668/6057 [00:08<00:00, 749.04it/s]\u001b[A\n",
      " 95%|█████████▌| 5764/6057 [00:08<00:00, 771.70it/s]\u001b[A\n",
      " 97%|█████████▋| 5860/6057 [00:08<00:00, 720.19it/s]\u001b[A\n",
      "100%|█████████▉| 6052/6057 [00:08<00:00, 732.07it/s]\u001b[A\n",
      "100%|██████████| 6057/6057 [00:08<00:00, 689.12it/s]\u001b[A"
     ]
    },
    {
     "data": {
      "image/png": "[encoded data removed]",
      "text/plain": [
       "<matplotlib.figure.Figure at 0x7f6b155e85f8>"
      ]
     },
     "metadata": {},
     "output_type": "display_data"
    }
   ],
   "source": [
    "run_all('canonical', orf_type_groups, profiles)"
   ]
  },
  {
   "cell_type": "code",
   "execution_count": 22,
   "metadata": {
    "collapsed": false
   },
   "outputs": [
    {
     "name": "stdout",
     "output_type": "stream",
     "text": [
      "\n",
      "  0%|          | 0/184 [00:00<?, ?it/s]\u001b[A\n",
      " 67%|██████▋   | 124/184 [00:00<00:00, 1235.83it/s]\u001b[A\n",
      "100%|██████████| 184/184 [00:00<00:00, 1340.34it/s]\u001b[A\n",
      "  0%|          | 0/184 [00:00<?, ?it/s]\u001b[A\n",
      "  1%|          | 1/184 [00:00<00:44,  4.14it/s]\u001b[A\n",
      "100%|██████████| 184/184 [00:00<00:00, 731.65it/s]\u001b[A"
     ]
    },
    {
     "data": {
      "image/png": "[encoded data removed]",
      "text/plain": [
       "<matplotlib.figure.Figure at 0x7f6ae88e7828>"
      ]
     },
     "metadata": {},
     "output_type": "display_data"
    }
   ],
   "source": [
    "run_all('five_prime_overlap', orf_type_groups, profiles)"
   ]
  },
  {
   "cell_type": "code",
   "execution_count": 23,
   "metadata": {
    "collapsed": false
   },
   "outputs": [
    {
     "name": "stdout",
     "output_type": "stream",
     "text": [
      "\n",
      "  0%|          | 0/19 [00:00<?, ?it/s]\u001b[A\n",
      "100%|██████████| 19/19 [00:00<00:00, 1501.95it/s]\u001b[A\n",
      "  0%|          | 0/19 [00:00<?, ?it/s]\u001b[A\n",
      "  5%|▌         | 1/19 [00:00<00:04,  4.00it/s]\u001b[A\n",
      "100%|██████████| 19/19 [00:00<00:00, 59.50it/s]\u001b[A"
     ]
    },
    {
     "data": {
      "image/png": "[encoded data removed]",
      "text/plain": [
       "<matplotlib.figure.Figure at 0x7f6ae41ab588>"
      ]
     },
     "metadata": {},
     "output_type": "display_data"
    }
   ],
   "source": [
    "run_all('five_prime', orf_type_groups, profiles)"
   ]
  },
  {
   "cell_type": "code",
   "execution_count": 24,
   "metadata": {
    "collapsed": false
   },
   "outputs": [
    {
     "name": "stdout",
     "output_type": "stream",
     "text": [
      "\n",
      "  0%|          | 0/1287 [00:00<?, ?it/s]\u001b[A\n",
      " 10%|█         | 135/1287 [00:00<00:00, 1348.28it/s]\u001b[A\n",
      " 27%|██▋       | 345/1287 [00:00<00:00, 1510.25it/s]\u001b[A\n",
      " 41%|████      | 526/1287 [00:00<00:00, 1589.00it/s]\u001b[A\n",
      " 57%|█████▋    | 728/1287 [00:00<00:00, 1697.03it/s]\u001b[A\n",
      " 73%|███████▎  | 944/1287 [00:00<00:00, 1813.28it/s]\u001b[A\n",
      " 88%|████████▊ | 1136/1287 [00:00<00:00, 1838.59it/s]\u001b[A\n",
      "100%|██████████| 1287/1287 [00:00<00:00, 1895.87it/s]\u001b[A\n",
      "  0%|          | 0/1287 [00:00<?, ?it/s]\u001b[A\n",
      "  0%|          | 1/1287 [00:00<04:38,  4.61it/s]\u001b[A\n",
      "100%|██████████| 1287/1287 [00:00<00:00, 4419.82it/s]\u001b[A"
     ]
    },
    {
     "data": {
      "image/png": "[encoded data removed]",
      "text/plain": [
       "<matplotlib.figure.Figure at 0x7f6b14cb5d68>"
      ]
     },
     "metadata": {},
     "output_type": "display_data"
    }
   ],
   "source": [
    "run_all('three_prime_overlap', orf_type_groups, profiles)"
   ]
  },
  {
   "cell_type": "code",
   "execution_count": null,
   "metadata": {
    "collapsed": true
   },
   "outputs": [],
   "source": []
  }
 ],
 "metadata": {
  "kernelspec": {
   "display_name": "Python 3",
   "language": "python",
   "name": "python3"
  },
  "language_info": {
   "codemirror_mode": {
    "name": "ipython",
    "version": 3
   },
   "file_extension": ".py",
   "mimetype": "text/x-python",
   "name": "python",
   "nbconvert_exporter": "python",
   "pygments_lexer": "ipython3",
   "version": "3.5.0"
  }
 },
 "nbformat": 4,
 "nbformat_minor": 0
}
