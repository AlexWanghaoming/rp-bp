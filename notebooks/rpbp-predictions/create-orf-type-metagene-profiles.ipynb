{
 "cells": [
  {
   "cell_type": "code",
   "execution_count": 1,
   "metadata": {
    "collapsed": true
   },
   "outputs": [],
   "source": [
    "%matplotlib inline"
   ]
  },
  {
   "cell_type": "code",
   "execution_count": 2,
   "metadata": {
    "collapsed": true
   },
   "outputs": [],
   "source": [
    "import matplotlib.pyplot as plt\n",
    "import numpy as np\n",
    "import scipy.io\n",
    "\n",
    "import misc.bio as bio\n",
    "import misc.parallel as parallel\n",
    "import misc.utils as utils\n",
    "\n",
    "import misc.math_utils as math_utils"
   ]
  },
  {
   "cell_type": "code",
   "execution_count": 3,
   "metadata": {
    "collapsed": false
   },
   "outputs": [],
   "source": [
    "orfs_file = \"/genomes/caenorhabditis_elegans/WBcel235.79.plus-de-novo/transcript-index/WBcel235.79.plus-de-novo.genomic-orfs.atg-only.bed.gz\"\n",
    "profiles_file = \"/prj/grosshans-riboseq/RPF/orf-profiles/9h-unique.length-17-20-21-28-29-33.offset-6-3-3-12-12-13.profiles.mtx.gz\"\n",
    "\n",
    "#orfs_file = \"/genomes/mus_musculus/GRCm38.79.plus-de-novo.genomic-orfs.atg-only.bed.gz\"\n",
    "#profiles_file = \"/prj/shirin-riboseq/RPF/orf-profiles/mouse-325.swim.cm.de-novo-unique.length-25-29-30-32-33-34-35.offset-12-12-12-13-13-13-13.profiles.mtx.gz\"\n",
    "\n",
    "#orfs_file = \"/genomes/homo-sapiens/GRCh38.79.plus-de-novo.genomic-orfs.atg-only.bed.gz\"\n",
    "#profiles_file = \"/prj/leo-riboseq/RPF/orf-profiles/tgfp-1-unique.length-17-18-19-20-21-22-23-24-26-28-29-30-31-32.offset-0-0-0-3-3-12-12-7-9-12-12-12-13-13.profiles.mtx.gz\"\n",
    "\n",
    "orfs = bio.read_bed(orfs_file)\n",
    "orf_type_groups = orfs.groupby('orf_type')\n",
    "profiles = scipy.io.mmread(profiles_file).tocsr()"
   ]
  },
  {
   "cell_type": "code",
   "execution_count": 8,
   "metadata": {
    "collapsed": false
   },
   "outputs": [],
   "source": [
    "def get_windows(profile):\n",
    "    \n",
    "    profile = profile / np.max(profile)\n",
    "    \n",
    "    orf_len = len(profile)\n",
    "    if orf_len < 42:\n",
    "        # we would return first window and exit\n",
    "        first_window = profile[:21]\n",
    "        return (first_window, None, None)\n",
    "\n",
    "    first_window, middle_window, last_window = np.split(profile, [21, orf_len-21])\n",
    "\n",
    "    # now, pull together and sum up all intermediate windows (of length 21)\n",
    "    # cheat a bit, and just split split the middle into 21-bp windows, drop the last window\n",
    "    indices = np.arange(21, len(middle_window), 21)\n",
    "    middle_windows = np.split(middle_window, indices)[:-1]\n",
    "    \n",
    "    return first_window, middle_windows, last_window\n",
    "\n",
    "def get_profile(orf, profiles):\n",
    "    orf_num = orf['orf_num']\n",
    "    orf_len = orf['orf_len']\n",
    "\n",
    "    if orf_len < 21:\n",
    "        return None\n",
    "\n",
    "    profile = utils.to_dense(profiles, orf_num, length=orf_len)\n",
    "    \n",
    "    if sum(profile) < 5:\n",
    "        return None\n",
    "    \n",
    "    return profile\n",
    "\n",
    "def plot_windows(windows, title):\n",
    "\n",
    "    windows_np = np.array(windows)\n",
    "    first_windows = windows_np[:,0]\n",
    "    \n",
    "    print(first_windows)\n",
    "\n",
    "    last_windows = windows_np[:,2] \n",
    "    last_windows = np.array([lw for lw in last_windows if lw is not None])\n",
    "\n",
    "    middle_windows = windows_np[:,1] \n",
    "    middle_windows = [mw for mw in middle_windows if mw is not None]\n",
    "    middle_windows = utils.flatten_lists(middle_windows)\n",
    "    middle_windows = np.array(middle_windows)\n",
    "\n",
    "    ind = np.arange(21)  # the x locations for the groups\n",
    "    width = 0.5       # the width of the bars\n",
    "\n",
    "    fig, axes = plt.subplots(ncols=3, sharey=True, sharex=True, figsize=(10,5))\n",
    "\n",
    "    # the first window\n",
    "    first_means = np.mean(first_windows, axis=0)\n",
    "    first_var = np.var(first_windows, axis=0)\n",
    "    rects_first = axes[0].bar(ind, first_means, width, color='g', yerr=first_var)\n",
    "\n",
    "    # the middle windows\n",
    "    middle_means = np.mean(middle_windows, axis=0)\n",
    "    middle_var = np.var(middle_windows, axis=0)\n",
    "    rects_middle = axes[1].bar(ind, middle_means, width, color='g', yerr=middle_var)\n",
    "\n",
    "    # the last window\n",
    "    last_means = np.mean(last_windows, axis=0)\n",
    "    last_var = np.var(last_windows, axis=0)\n",
    "    rects_last = axes[2].bar(ind, last_means, width, color='g', yerr=last_var)\n",
    "\n",
    "    axes[0].set_xlim((-width, 21))\n",
    "    axes[0].set_ylim((0, 0.2))\n",
    "    \n",
    "    fig.suptitle(title)"
   ]
  },
  {
   "cell_type": "code",
   "execution_count": 9,
   "metadata": {
    "collapsed": false
   },
   "outputs": [
    {
     "data": {
      "text/plain": [
       "1850"
      ]
     },
     "execution_count": 9,
     "metadata": {},
     "output_type": "execute_result"
    }
   ],
   "source": [
    "m_canonical = orfs['orf_type'] == 'canonical'\n",
    "m_reverse = orfs['strand'] == '-'\n",
    "m_seqname = orfs['seqname'] == 'I'\n",
    "g = orfs[m_canonical & m_reverse & m_seqname]\n",
    "len(g)"
   ]
  },
  {
   "cell_type": "code",
   "execution_count": 10,
   "metadata": {
    "collapsed": false
   },
   "outputs": [
    {
     "name": "stdout",
     "output_type": "stream",
     "text": [
      "100%|██████████| 1850/1850 [00:00<00:00, 2063.00it/s]\n",
      "100%|██████████| 1399/1399 [00:00<00:00, 5748.87it/s]\n",
      "[ array([ 0.        ,  0.        ,  0.        ,  0.        ,  0.        ,\n",
      "        0.        ,  0.        ,  0.        ,  0.        ,  0.        ,\n",
      "        0.        ,  0.05882353,  0.        ,  0.        ,  0.        ,\n",
      "        0.        ,  0.        ,  0.        ,  0.        ,  0.        ,\n",
      "        0.05882353])\n",
      " array([ 0.   ,  0.   ,  0.   ,  0.   ,  0.   ,  0.   ,  0.125,  0.   ,\n",
      "        0.   ,  0.   ,  0.   ,  0.   ,  0.   ,  0.   ,  0.125,  0.   ,\n",
      "        0.   ,  0.   ,  0.   ,  0.   ,  0.   ])\n",
      " array([ 0.   ,  0.   ,  0.   ,  0.   ,  0.   ,  0.   ,  0.   ,  0.   ,\n",
      "        0.   ,  0.   ,  0.125,  0.   ,  0.   ,  0.   ,  0.   ,  0.   ,\n",
      "        0.   ,  0.   ,  0.   ,  0.   ,  0.   ])\n",
      " ...,\n",
      " array([ 0.,  0.,  0.,  0.,  0.,  0.,  0.,  0.,  0.,  0.,  0.,  0.,  0.,\n",
      "        0.,  0.,  0.,  0.,  0.,  0.,  0.,  0.])\n",
      " array([ 0.        ,  0.52941176,  0.        ,  0.        ,  0.        ,\n",
      "        0.        ,  0.05882353,  0.        ,  0.        ,  0.        ,\n",
      "        0.47058824,  0.        ,  0.05882353,  0.        ,  0.        ,\n",
      "        0.        ,  0.        ,  0.        ,  0.        ,  0.        ,  0.        ])\n",
      " array([ 0.,  0.,  0.,  0.,  0.,  0.,  0.,  0.,  0.,  0.,  0.,  0.,  0.,\n",
      "        0.,  0.,  0.,  0.,  0.,  0.,  0.,  0.])]\n"
     ]
    },
    {
     "data": {
      "image/png": "[encoded data removed]",
      "text/plain": [
       "<matplotlib.figure.Figure at 0x7fed1e2da278>"
      ]
     },
     "metadata": {},
     "output_type": "display_data"
    }
   ],
   "source": [
    "%xdel windows\n",
    "%xdel g_profiles\n",
    "g_profiles = parallel.apply_df_simple(g, get_profile, profiles, progress_bar=True)\n",
    "g_profiles = [g_profile for g_profile in g_profiles if g_profile is not None]\n",
    "windows = parallel.apply_iter_simple(g_profiles, get_windows, progress_bar=True)\n",
    "plot_windows(windows, 'canonical, reverse')"
   ]
  },
  {
   "cell_type": "code",
   "execution_count": 7,
   "metadata": {
    "collapsed": false
   },
   "outputs": [
    {
     "name": "stdout",
     "output_type": "stream",
     "text": [
      "100%|██████████| 1966/1966 [00:00<00:00, 2210.42it/s]\n",
      "100%|██████████| 1475/1475 [00:00<00:00, 8132.92it/s]\n"
     ]
    },
    {
     "data": {
      "image/png": "[encoded data removed]",
      "text/plain": [
       "<matplotlib.figure.Figure at 0x7fed187977b8>"
      ]
     },
     "metadata": {},
     "output_type": "display_data"
    }
   ],
   "source": [
    "%xdel windows\n",
    "%xdel g_profiles\n",
    "g = orfs[m_canonical & ~m_reverse & m_seqname]\n",
    "g_profiles = parallel.apply_df_simple(g, get_profile, profiles, progress_bar=True)\n",
    "g_profiles = [g_profile for g_profile in g_profiles if g_profile is not None]\n",
    "windows = parallel.apply_iter_simple(g_profiles, get_windows, progress_bar=True)\n",
    "plot_windows(windows, 'canonical, forward')"
   ]
  },
  {
   "cell_type": "code",
   "execution_count": null,
   "metadata": {
    "collapsed": true
   },
   "outputs": [],
   "source": []
  },
  {
   "cell_type": "code",
   "execution_count": null,
   "metadata": {
    "collapsed": true
   },
   "outputs": [],
   "source": []
  },
  {
   "cell_type": "code",
   "execution_count": null,
   "metadata": {
    "collapsed": true
   },
   "outputs": [],
   "source": [
    "def run_all(g, profiles, num_cpus=2):\n",
    "    orf_type = g['orf_type'].iloc[0]\n",
    "\n",
    "    g_profiles = parallel.apply_df_simple(g, get_profile, profiles, progress_bar=True)\n",
    "    windows = parallel.apply_parallel_iter(g_profiles, num_cpus, get_windows, progress_bar=True)\n",
    "    \n",
    "    plot_windows(windows, orf_type)"
   ]
  },
  {
   "cell_type": "code",
   "execution_count": null,
   "metadata": {
    "collapsed": false
   },
   "outputs": [],
   "source": [
    "num_cpus = 2\n",
    "orf_type_groups.apply(run_all, profiles, num_cpus)"
   ]
  },
  {
   "cell_type": "code",
   "execution_count": null,
   "metadata": {
    "collapsed": false
   },
   "outputs": [],
   "source": [
    "run_all(g, profiles)"
   ]
  },
  {
   "cell_type": "code",
   "execution_count": null,
   "metadata": {
    "collapsed": false
   },
   "outputs": [],
   "source": [
    "orf_type_groups.apply()"
   ]
  },
  {
   "cell_type": "code",
   "execution_count": null,
   "metadata": {
    "collapsed": false,
    "scrolled": true
   },
   "outputs": [],
   "source": [
    "run_all('canonical', orf_type_groups, profiles)"
   ]
  },
  {
   "cell_type": "code",
   "execution_count": null,
   "metadata": {
    "collapsed": false
   },
   "outputs": [],
   "source": [
    "run_all('five_prime_overlap', orf_type_groups, profiles)"
   ]
  },
  {
   "cell_type": "code",
   "execution_count": null,
   "metadata": {
    "collapsed": false
   },
   "outputs": [],
   "source": [
    "run_all('five_prime', orf_type_groups, profiles)"
   ]
  },
  {
   "cell_type": "code",
   "execution_count": null,
   "metadata": {
    "collapsed": false
   },
   "outputs": [],
   "source": [
    "run_all('three_prime_overlap', orf_type_groups, profiles)"
   ]
  },
  {
   "cell_type": "code",
   "execution_count": null,
   "metadata": {
    "collapsed": true
   },
   "outputs": [],
   "source": []
  }
 ],
 "metadata": {
  "kernelspec": {
   "display_name": "Python 3",
   "language": "python",
   "name": "python3"
  },
  "language_info": {
   "codemirror_mode": {
    "name": "ipython",
    "version": 3
   },
   "file_extension": ".py",
   "mimetype": "text/x-python",
   "name": "python",
   "nbconvert_exporter": "python",
   "pygments_lexer": "ipython3",
   "version": "3.5.0"
  }
 },
 "nbformat": 4,
 "nbformat_minor": 0
}
