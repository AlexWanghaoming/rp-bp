{
 "cells": [
  {
   "cell_type": "markdown",
   "metadata": {},
   "source": [
    "### The general outline of this document is correct, but specific variable names, etc., may be incorrect. Please refer to the main [Usage Instructions](usage-instructions.ipynb) for up-to-date information."
   ]
  },
  {
   "cell_type": "markdown",
   "metadata": {},
   "source": [
    "## Creating the reference genome index files"
   ]
  },
  {
   "cell_type": "markdown",
   "metadata": {},
   "source": [
    "This document describes the steps necessary to prepare a reference genome and matching annotation for use in the Rp-Bp and Rp-chi pipelines. The process must only be run once for each reference genome and set of annotations.\n",
    "\n",
    "It shows some sample calls. For all programs, the `--help` option can be given to see the complete list of parameters.\n",
    "\n",
    "**Input**\n",
    "* Reference genome sequence\n",
    "* GFF3/GTF annotations matching the reference sequence\n",
    "* Ribosomal sequence"
   ]
  },
  {
   "cell_type": "markdown",
   "metadata": {},
   "source": [
    "Please see the [usage instructions](usage-instructions.ipynb#creating-reference-genome-indices) for a high-level overview of this process."
   ]
  },
  {
   "cell_type": "markdown",
   "metadata": {},
   "source": [
    "### Building the ribosomal sequence index\n",
    "\n",
    "The ribosomal sequence Bowtie2 index must be created with `bowtie2-build-s`."
   ]
  },
  {
   "cell_type": "code",
   "execution_count": null,
   "metadata": {
    "collapsed": true
   },
   "outputs": [],
   "source": [
    "bowtie2-build-s /path/to/my/input/ribosomal-fasta.fa /path/to/my/output/ribosomal-index"
   ]
  },
  {
   "cell_type": "markdown",
   "metadata": {},
   "source": [
    "### Creating the STAR index\n",
    "\n",
    "The `STAR` genome index is created for mapping reads to the genome. The `create-star-reference` script creates the reference. It is a light wrapper around `STAR -runMode genomeGenerate`."
   ]
  },
  {
   "cell_type": "code",
   "execution_count": null,
   "metadata": {
    "collapsed": true
   },
   "outputs": [],
   "source": [
    "create-star-reference /path/to/my/input-annotations.gtf /path/to/my/input/reference-sequence.fa /path/to/my/output/star-index --num-procs p --mem m"
   ]
  },
  {
   "cell_type": "markdown",
   "metadata": {},
   "source": [
    "### Extracting spliced transcript sequences\n",
    "\n",
    "First, spliced transcript sequences are extracted using `extract-transcript-fasta`. This script is a light wrapper around `gffread` from the Cufflinks package."
   ]
  },
  {
   "cell_type": "code",
   "execution_count": null,
   "metadata": {
    "collapsed": true
   },
   "outputs": [],
   "source": [
    "extract-transcript-fasta /path/to/my/input-annotations.gtf /path/to/my/input/reference-sequence.fa /path/to/my/output/transcript-sequences.fa"
   ]
  },
  {
   "cell_type": "markdown",
   "metadata": {},
   "source": [
    "### Extracting ORFs from transcripts\n",
    "\n",
    "The open reading frames within the spliced transcript sequences are identified using `extract-orfs`. This script uses pybedtools."
   ]
  },
  {
   "cell_type": "code",
   "execution_count": null,
   "metadata": {
    "collapsed": true
   },
   "outputs": [],
   "source": [
    "extract-orfs /path/to/my/input/transcript-sequences.fa /path/to/my/output/orfs.bed.gz --num-procs p"
   ]
  }
 ],
 "metadata": {
  "kernelspec": {
   "display_name": "Python 3",
   "language": "python",
   "name": "python3"
  },
  "language_info": {
   "codemirror_mode": {
    "name": "ipython",
    "version": 3
   },
   "file_extension": ".py",
   "mimetype": "text/x-python",
   "name": "python",
   "nbconvert_exporter": "python",
   "pygments_lexer": "ipython3",
   "version": "3.5.0"
  }
 },
 "nbformat": 4,
 "nbformat_minor": 0
}
