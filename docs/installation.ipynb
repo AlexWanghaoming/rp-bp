{
 "cells": [
  {
   "cell_type": "markdown",
   "metadata": {},
   "source": [
    "# Installing the Rp-Bp and Rp-chi pipelines"
   ]
  },
  {
   "cell_type": "markdown",
   "metadata": {},
   "source": [
    "This document describes detailed installation instructions for the Rp-Bp and Rp-chi pipelines. These steps have been primarily tested on Ubuntu."
   ]
  },
  {
   "cell_type": "markdown",
   "metadata": {},
   "source": [
    "<a id=\"toc\"></a>\n",
    "\n",
    "* [Prerequisites](#prerequisites)\n",
    "* [Simple installation](#simple-installation)\n",
    "* [Virtual environment installation](#virtual-environment-installation)\n",
    "\n",
    "<a id=\"prerequisites\"></a>"
   ]
  },
  {
   "cell_type": "markdown",
   "metadata": {},
   "source": [
    "## Prerequisites\n",
    "\n",
    "The pipelines make use of a number of standard bioinformatics tools. All of these must be installed and available on the `$PATH` for the pipeline to work correctly. All of the pipeline scripts check that the required programs are available before executing. If any required programs cannot be found, the script prints an error message about the missing program and does not continue. The versions used during development and testing are specified below. For most of the tools, any recent version should be sufficient. If problems arise, though, please use the version indicated below\n",
    "\n",
    "* [bedtools](http://bedtools.readthedocs.io/en/latest/), version 2.25.0. Importantly, [bedtools intersect](http://bedtools.readthedocs.io/en/latest/content/tools/intersect.html) must accept the `-F` option\n",
    "* [bowtie2](http://bowtie-bio.sourceforge.net/bowtie2/index.shtml), version 2.2.6\n",
    "* [flexbar](https://github.com/seqan/flexbar), version 2.5\n",
    "* [SAMtools](http://www.htslib.org/), version 1.2\n",
    "* [STAR](https://github.com/alexdobin/STAR), version 2.4.1d\n",
    "\n",
    "#### OpenBlas\n",
    "\n",
    "Additionally, the [OpenBLAS](http://www.openblas.net/) library is used for efficiency. This library is installed by default on many versions of Unix. It is also available through many standard package managers. For example:\n",
    "\n",
    "* Ubuntu: ``sudo apt-get install libopenblas-dev``\n",
    "* CentOS: ``sudo yum install openblas-devel``\n",
    "\n",
    "If the use of package managers are not an option (for example, because they require root access) or just not desired, then OpenBLAS can be installed locally. The following instructions have been tested extensively on Ubuntu, but they may require modification for other distributions.\n",
    "\n",
    "For OSX, a custom installation of numpy linking against the OpenBLAS library is required. We do not officially support this, but [example documentation](http://dedupe.readthedocs.io/en/latest/OSX-Install-Notes.html) is available elsewhere on the web.\n",
    "\n",
    "N.B. In principle, any BLAS and ATLAS library, such as [Intel's Math Kernel Library](https://software.intel.com/en-us/intel-mkl), can be used. This has not been tested and is not supported, though."
   ]
  },
  {
   "cell_type": "code",
   "execution_count": null,
   "metadata": {
    "collapsed": true
   },
   "outputs": [],
   "source": [
    "# download the OpenBLAS source\n",
    "git clone https://github.com/xianyi/OpenBLAS\n",
    "    \n",
    "# compile the library\n",
    "cd OpenBLAS && make FC=gfortran\n",
    "\n",
    "### Lines to add to .bashrc\n",
    "# for the OpenBLAS library\n",
    "export LD_LIBRARY_PATH=/path/to/OpenBLAS:$LD_LIBRARY_PATH\n",
    "export BLAS=/path/to/libopenblas.a\n",
    "export ATLAS=/path/to/libopenblas.a\n",
    "    \n",
    "# then, to be safe, close the current terminal and open a new one to install rp-bp"
   ]
  },
  {
   "cell_type": "markdown",
   "metadata": {},
   "source": [
    "[Back to top](#toc)\n",
    "\n",
    "<a id='simple-installation'></a>"
   ]
  },
  {
   "cell_type": "markdown",
   "metadata": {},
   "source": [
    "## Simple installation\n",
    "\n",
    "\n",
    "We recommend installing the application in a virtual environment as described [below](#virtual-environment-installation). If this is not desired for some reason, the following instructions can be used to install the package without sudo access in a user's home directory.\n",
    "\n",
    "The commands below are presumably executed in a directory like `$HOME/install`. They install the python executables into `$HOME/local/bin` (or wherever the `prefix` option is located).\n",
    "So that directory must be in the `$PATH`.\n",
    "This can be accomplished by adding a line like `export PATH=$HOME/local/bin:$PATH` in the file `.bashrc` on Ubuntu.\n",
    "\n",
    "**N.B. It is very important that pip and wheel are upgraded!**\n",
    "\n",
    "N.B. The `--user` option can also be given to pip3 for installation within the user's home directory. The installation is then compatible with system-wide python3 installations without requiring sudo access."
   ]
  },
  {
   "cell_type": "code",
   "execution_count": null,
   "metadata": {
    "collapsed": true
   },
   "outputs": [],
   "source": [
    "### Lines to add to .bashrc\n",
    "\n",
    "# for the installation process\n",
    "export PATH=$HOME/local/bin:$PATH\n",
    "\n",
    "### Downloading and installing the required software\n",
    "\n",
    "# Download, extract and install Python 3. \n",
    "wget https://www.python.org/ftp/python/3.5.1/Python-3.5.1.tgz && tar -xvf Python-3.5.1.tgz && cd Python-3.5.1 && ./configure --prefix=$HOME/local --with-ensurepip=upgrade && make && make install && cd ..\n",
    "\n",
    "# Upgrade pip. \n",
    "pip3 install --upgrade pip wheel\n",
    "\n",
    "# Clone the git repository. \n",
    "git clone git@github.com:dieterich-lab/rp-bp.git\n",
    "    \n",
    "# Change into the rp-bp directory and build the package. \n",
    "cd rp-bp && pip3 install --verbose .\n",
    "\n",
    "# or install the package in the user's home directory\n",
    "cd rp-bp && pip3 install --verbose --user ."
   ]
  },
  {
   "cell_type": "markdown",
   "metadata": {},
   "source": [
    "The build process includes compiling several libraries for optimized numerical calculations. Due to the optimized nature of these libraries, the initial installation can take up to an hour.\n",
    "\n",
    "\n",
    "Due to the `--verbose` flag, much debugging information is printed. In some cases, building some libraries may initially fail; this is due to a known issue with dependency-handling in [pip](https://pip.pypa.io/en/stable/reference/pip_install/#installation-order). The following output (or something similar depending on packages already available) indicates installation succeeded:\n",
    "\n",
    "`Successfully installed cython-0.25.1 docopt-0.6.2 joblib-0.10.3 numpy-1.11.2 pandas-0.19.0 patsy-0.4.1 psutil-4.4.2 pybedtools-0.7.8 pyfasta-0.5.2 pysam-0.9.1.4 pystan-2.12.0.0 python-dateutil-2.5.3 pytz-2016.7 pyyaml-3.12 rpbp-1.0 scipy-0.18.1 six-1.10.0 statsmodels-0.6.1 tqdm-4.9.0\n",
    "Cleaning up...`\n"
   ]
  },
  {
   "cell_type": "markdown",
   "metadata": {},
   "source": [
    "[Back to top](#toc)\n",
    "\n",
    "<a id='virtual-environment-installation'></a>"
   ]
  },
  {
   "cell_type": "markdown",
   "metadata": {},
   "source": [
    "## Virtual environment installation\n",
    "\n",
    "\n",
    "These instructions explain how to install the software and most dependencies from scratch without required root access.\n",
    "It only requires standard development libraries and tools, like gcc and the gzip development headers.\n",
    "The python build scripts will also output a line like \"The necessary bits to build these optional modules were not found\" if any optional libraries, developoment headers, etc., are not found.\n",
    "\n",
    "The commands below are presumably executed in a directory like `$HOME/install`.\n",
    "They install the python executables into `$HOME/local/bin` (or wherever the `prefix` option is located).\n",
    "So that directory must be in the `$PATH`.\n",
    "This can be accomplished by adding a line like `export PATH=$HOME/local/bin:$PATH` in the file `.bashrc` on Ubuntu."
   ]
  },
  {
   "cell_type": "code",
   "execution_count": null,
   "metadata": {
    "collapsed": true
   },
   "outputs": [],
   "source": [
    "### Lines to add to .bashrc\n",
    "\n",
    "# for the virtual environment\n",
    "# See http://www.simononsoftware.com/virtualenv-tutorial-part-2/ for more details.\n",
    "export WORKON_HOME=$HOME/.virtualenvs\n",
    "source $HOME/local/bin/virtualenvwrapper_lazy.sh \n",
    "    \n",
    "# for the installation process\n",
    "export PATH=$HOME/local/bin:$PATH\n",
    "\n",
    "### Downloading and installing the required software\n",
    "\n",
    "# Download, extract and install Python 2. This is necessary for creating the virtual environment\n",
    "wget https://www.python.org/ftp/python/2.7.11/Python-2.7.11.tgz && tar -xvf Python-2.7.11.tgz && cd Python-2.7.11 && ./configure --prefix=$HOME/local --with-ensurepip=upgrade && make && make install && cd ..\n",
    "    \n",
    "# Download, extract and install Python 3. This is necessary for the pipelines\n",
    "wget https://www.python.org/ftp/python/3.5.1/Python-3.5.1.tgz && tar -xvf Python-3.5.1.tgz && cd Python-3.5.1 && ./configure --prefix=$HOME/local --with-ensurepip=upgrade && make && make install && cd ..\n",
    "\n",
    "# Upgrade both versions of pip. \n",
    "pip2 install --upgrade pip && pip3 install --upgrade pip wheel\n",
    "\n",
    "# Install the virtual environment wrapper for Python 2. \n",
    "pip2 install --upgrade virtualenvwrapper\n",
    "\n",
    "# Create a virtual environment using Python 3. \n",
    "mkvirtualenv rpbp -p $HOME/local/bin/python3\n",
    "\n",
    "# Activate the virtual environment\n",
    "workon rpbp\n",
    "\n",
    "# Clone the git repository.\n",
    "git clone git@github.com:dieterich-lab/rp-bp.git\n",
    "\n",
    "# Change into the rp-bp directory and build the package. \n",
    "cd rp-bp && pip3 install --verbose ."
   ]
  },
  {
   "cell_type": "markdown",
   "metadata": {},
   "source": [
    "The build process includes compiling several libraries for optimized numerical calculations. Due to the optimized nature of these libraries, the initial installation can take up to an hour.\n",
    "\n",
    "Due to the `--verbose` flag, much debugging information is printed. In some cases, building some libraries may initially fail; this is due to a known issue with dependency-handling in [pip](https://pip.pypa.io/en/stable/reference/pip_install/#installation-order). The following output (or something similar depending on packages already available) indicates installation succeeded:\n",
    "\n",
    "`Successfully installed cython-0.25.1 docopt-0.6.2 joblib-0.10.3 numpy-1.11.2 pandas-0.19.0 patsy-0.4.1 psutil-4.4.2 pybedtools-0.7.8 pyfasta-0.5.2 pysam-0.9.1.4 pystan-2.12.0.0 python-dateutil-2.5.3 pytz-2016.7 pyyaml-3.12 rpbp-1.0 scipy-0.18.1 six-1.10.0 statsmodels-0.6.1 tqdm-4.9.0\n",
    "Cleaning up...`\n",
    "\n",
    "To use the programs in the future, use the `workon` command to ensure the virtual environment is active."
   ]
  },
  {
   "cell_type": "code",
   "execution_count": null,
   "metadata": {
    "collapsed": true
   },
   "outputs": [],
   "source": [
    "# Activate the virtual environment\n",
    "workon rpbp"
   ]
  },
  {
   "cell_type": "markdown",
   "metadata": {},
   "source": [
    "[Back to top](#toc)"
   ]
  }
 ],
 "metadata": {
  "kernelspec": {
   "display_name": "Python 3",
   "language": "python",
   "name": "python3"
  },
  "language_info": {
   "codemirror_mode": {
    "name": "ipython",
    "version": 3
   },
   "file_extension": ".py",
   "mimetype": "text/x-python",
   "name": "python",
   "nbconvert_exporter": "python",
   "pygments_lexer": "ipython3",
   "version": "3.5.0"
  }
 },
 "nbformat": 4,
 "nbformat_minor": 0
}
