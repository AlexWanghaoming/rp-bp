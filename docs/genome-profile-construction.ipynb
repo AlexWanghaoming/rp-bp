{
 "cells": [
  {
   "cell_type": "markdown",
   "metadata": {},
   "source": [
    "## Creating filtered genome profiles"
   ]
  },
  {
   "cell_type": "markdown",
   "metadata": {},
   "source": [
    "This document describes the steps necessary to create the filtered genome profiles for use in the Rp-Bp and Rp-chi pipelines. This process must be run on each sample independently. The various [reference sequence indices](reference-genome-indexing.ipynb) must already be created."
   ]
  },
  {
   "cell_type": "markdown",
   "metadata": {},
   "source": [
    "The entire profile creation process can be run automatically using the `create-filtered-genome-profile` script. It reads most of the required paths from a (YAML) configuration file. Additionally, it automatically creates some of the output paths.\n",
    "\n",
    "The script also accepts a `--overwrite` flag. If this is given, then steps for which the output file already exists will be skipped.\n",
    "\n",
    "It also accepts a `--do-not-call` flag. If this flag is given, then the commands below will be printed but not executed.\n",
    "\n",
    "Logging options can also be given to this script.\n",
    "\n",
    "**Configuration file keys**\n",
    "\n",
    "The following keys are read from the configuration file. Keys with [`brackets`] are optional.\n",
    "\n",
    "* `riboseq_data`. The base output location for all created files.\n",
    "* `ribosomal_index`. The base output path for the Bowtie2 index of the ribosomal sequence\n",
    "* `gtf`. The path to the reference annotations\n",
    "* `star_index`. The base output path for the STAR index of the genome sequence\n",
    "* `periodic_models`. A list of paths to pickled StanModel objects which somehow represent a periodic metagene profile\n",
    "* `nonperiodic_models`. A list of paths to pickled StanModel objects which model non-periodic behavior\n",
    "\n",
    "\n",
    "\n",
    "**Input files**\n",
    "\n",
    "The required input files are only those suggested by the configuration file keys.\n",
    "\n",
    "* `ribosomal_index`.\n",
    "* `gtf`.\n",
    "* `star_index`.\n",
    "* `periodic_models`.\n",
    "* `nonperiodic_models`.\n",
    "\n",
    "**Output files**\n",
    "\n"
   ]
  },
  {
   "cell_type": "code",
   "execution_count": null,
   "metadata": {
    "collapsed": true
   },
   "outputs": [],
   "source": [
    "create-filtered-genome-profile /path/to/my/raw-data.fastq.gz /path/to/my/input-config.yaml my-sample-name --num-procs p"
   ]
  },
  {
   "cell_type": "markdown",
   "metadata": {},
   "source": [
    "### Creating the base genome profile\n",
    "\n",
    "First, the base genome profile is created from the raw reads following the procedure outlined in the paper with `create-base-genome-profile`. This script wraps calls to \n",
    "* `flexbar`, for removing adapter sequences and low-quality reads\n",
    "* `bowtie2`, for removing reads which align to ribosomal sequences\n",
    "* `STAR`, for aligning reads to the genome, taking into account splicing\n",
    "* `remove-multimapping-reads` (a light wrapper around `samtools`), for removing reads with multiple genomic alignments\n",
    "\n",
    "This script uses a YAML configuration file to control the behavior of these programs. The configuration file also includes the base output location for the intermediate files.\n",
    "\n",
    "The script also accepts a `--overwrite` flag. If this is given, then steps for which the output file already exists will be skipped.\n",
    "\n",
    "It also accepts a `--do-not-call` flag. If this flag is given, then the commands below will be printed but not executed.\n",
    "\n",
    "Logging options can also be given to this script.\n",
    "\n",
    "**Configuration file keys**\n",
    "\n",
    "The following keys are read from the configuration file. Keys with [`brackets`] are optional.\n",
    "* `riboseq_data`. The base output location for all created files.\n",
    "* `ribosomal_index`. The base output path for the Bowtie2 index of the ribosomal sequence\n",
    "* `gtf`. The path to the reference annotations\n",
    "* `star_index`. The base output path for the STAR index of the genome sequence\n",
    "\n",
    "Flexbar options. These options are passed through to flexbar unchanged.\n",
    "* [`adapter_file`]. A fasta file containing a set of adapter sequences used by flexbar\n",
    "* [`max_uncalled`]. The maximum number of Ns to permit in a read without filtering\n",
    "* [`pre_trim_left`]. The number of bases to remove from the 5' end of all reads\n",
    "* [`adapter_sequence`]. A single sequence used to remove adapters within flexbar\n",
    "* [`quality_format`]. The quality format of the reads in the raw fastq file\n",
    "* [`flexbar_compression`]. The type of compression used for the raw fastq file. <span style=\"color:red\">TODO:</span> guess this based on the raw_data extension\n",
    "\n",
    "STAR options. These options are passed through to STAR unchanged.\n",
    "* [`align_intron_min`]. default: 20\n",
    "* [`align_intron_max`]. default: 100000\n",
    "* [`out_filter_intron_motifs`]. default: RemoveNoncanonicalUnannotated\n",
    "* [`out_filter_mismatch_n_max`]. default: 1\n",
    "* [`out_filter_mismatch_n_over_l_max`]. default: 0.04\n",
    "* [`out_filter_type`]. default: BySJout\n",
    "* [`out_sam_attributes`]. default: AS NH HI nM MD\n",
    "\n",
    "**Output files**\n",
    "\n",
    "This script primarily creates the following files. (STAR also creates some temporary and log files.)\n",
    "* `riboseq_data`/without-adapters/`sample-name`.fastq.gz\n",
    "* `riboseq_data`/with-rrna/`sample-name`.fastq.gz\n",
    "* `riboseq_data`/without-rrna/`sample-name`.fastq.gz\n",
    "* `riboseq_data`/without-rrna-mapping/sam/`sample-name`Aligned.out.sam\n",
    "* `riboseq_data`/without-rrna-mapping/sam/`sample-name`Aligned.toTranscriptome.out.bam\n",
    "* `riboseq_data`/without-rrna-mapping/bam/`sample-name`.bam\n",
    "* `riboseq_data`/without-rrna-mapping/bam/`sample-name`.transcriptome.bam\n",
    "* `riboseq_data`/without-rrna-mapping/bam/`sample-name`-unique.bam\n",
    "\n",
    "Indices are also created for the bam files. `sample-name`.bam and `sample-name`.transcriptome.bam are sorted versions of the respective sam files. `sample-name`-unique.bam is sorted and does not contain any multimappers.\n",
    "\n",
    "**Difference from paper**\n",
    "\n",
    "The fifth step of creating the base genome profile in the paper is \"Everything except the 5' end of the remaining reads is removed.\" This profile is not explicitly constructed in the pipeline. The `sample-name`-unique.bam already contains the necessary information."
   ]
  },
  {
   "cell_type": "code",
   "execution_count": null,
   "metadata": {
    "collapsed": true
   },
   "outputs": [],
   "source": [
    "create-base-genome-profile /path/to/my/raw-data.fastq.gz /path/to/my/input-config.yaml my-sample-name --num-procs p"
   ]
  },
  {
   "cell_type": "markdown",
   "metadata": {},
   "source": [
    "### Constructing metagene profiles\n",
    "\n",
    "We next extract the metagene profiles for each read length using the `extract-metagene-profiles` script. This script is largely a wrapper around pysam; it uses pandas to efficiently find reads with 5' ends around translation initiation sites.\n",
    "\n",
    "**Command line options**\n",
    "\n",
    "This script does not use the configuration file. It accepts the following command line options. Options with [`brackets`] are optional.\n",
    "\n",
    "* `bam`. The `sample-name`-unique.bam file, which contains the base genome profile.\n",
    "* `orfs`. The BED file created while preprocessing the reference annotations.\n",
    "* `out`. A csv.gz file which contains the metagene profiles around the translation initiation and terminiation sites.\n",
    "\n",
    "\n",
    "* [`--lengths`]. If specified, then metagene profiles will be created for reads of each length. Otherwise, profiles will be created for each read length present in the bam file.\n",
    "\n",
    "* [`--seqids-to-keep`]. If this list is given, then only transcripts appearing on these identifiers will be used to construct the metagene profiles. The identifiers must match exactly (e.g., \"2\" and \"chr2\" do not match)\n",
    "\n",
    "\n",
    "* [`--start-upstream`]. The number of bases upstream of the translation initiation site to begin constructing the metagene profile. default: 50\n",
    "\n",
    "* [`--start-downstream`]. The number of bases downstream of the translation initiation site to end the metagene profile. default: 20\n",
    "\n",
    "* [`--end-upstream`]. The number of bases upstream of the translation termination site to begin constructing the metagene profile. default: 50\n",
    "\n",
    "* [`--end-downstream`]. The number of bases downstream of the translation termination site to end the metagene profile. default: 20\n",
    "\n",
    "**Input file**\n",
    "\n",
    "This script uses the `riboseq_data`/without-rrna-mapping/bam/`sample-name`-unique.bam file as input.\n",
    "\n",
    "**Output file**\n",
    "\n",
    "This script creates a csv.gz file with the following columns:\n",
    "* count\n",
    "* position\n",
    "* type\n",
    "* length"
   ]
  },
  {
   "cell_type": "code",
   "execution_count": null,
   "metadata": {
    "collapsed": true
   },
   "outputs": [],
   "source": [
    "extract-metagene-profiles /path/to/my/input/`sample-name`-unique.bam /path/to/my/input-orfs.bed.gz /path/to/my/output-metagene-profile.csv.gz --num-procs p"
   ]
  },
  {
   "cell_type": "markdown",
   "metadata": {},
   "source": [
    "### Estimating periodicity Bayes factors\n",
    "\n",
    "The penultimate step in creating the filtered genome profile is identifying the offsets for each read length which exhibit periodicity. We identify periodicity by estimating the Bayes factor of the metagene profile starting at each possible offset . This involves Markov chain Monte Carlo sampling with [Stan](http://mc-stan.org/), which is managed through the [pystan](https://pystan.readthedocs.org/en/latest/) interface. The `estimate-metagene-profile-bayes-factors` script controls this sampling.\n",
    "\n",
    "**Command line options**\n",
    "\n",
    "This script does not use the configuration file. It accepts the following command line options. Options with [`brackets`] are optional.\n",
    "\n",
    "* `metagene_profiles`. The csv.gz file containing the metagene profiles produced in the previous step.\n",
    "\n",
    "* `out`. The output csv.gz file, which contains Bayes factor estimates for all offsets in the specific range. The estimates are made for all read lengths present in the input file.\n",
    "\n",
    "* `periodic_models`. A list of paths to pickled StanModel objects which somehow represent a periodic metagene profile.\n",
    "* `nonperiodic_models`. A list of paths to pickled StanModel objects which model non-periodic behavior.\n",
    "\n",
    "* [`--periodic-offset-start`]. The position, relative to the translation initiation site, to begin calculating periodicity Bayes factors (inclusive)\n",
    "* [`--periodic-offset-end`]. The position, relative to the translation initiation site, to stop calculating periodicity Bayes factors (inclusive)\n",
    "* [`--metagene-profile-length`]. The length of the profile to use in the models. `metagene_profile_length` + `periodic_offset_end` must be consistent with the length of the extracted metagene profile\n",
    "\n",
    "\n",
    "* [`--seed`]. The random seed for the MCMC sampling. default: 8675309\n",
    "* [`--chains`]. The number of chains to use in the MCMC sampling. default: 2\n",
    "* [`--iterations`]. The number of iterations to use for each chain in the MCMC sampling. The first half of the iterations are discarded as burn-in samples. All of the remaining samples are used to estimate the posterior distributions. That is, we do not use thinning. default: 500\n",
    "\n",
    "**Input file**\n",
    "\n",
    "The input is a csv(.gz) file which contains at least the following fields. \n",
    "\n",
    "* count\n",
    "* position\n",
    "* type\n",
    "* length\n",
    "\n",
    "Presumably, it is created using the `extract-metagene-profiles` script.\n",
    "\n",
    "**Output file**\n",
    "\n",
    "The output is a csv.gz file which contains the following information (fields) for each offset and read length.\n",
    "\n",
    "* p_periodic_mean. The mean of the marginal distribution of the best periodic model.\n",
    "* p_periodic_var. The variance of the marginal distribution of the best periodic model.\n",
    "* p_nonperiodic_mean. The mean of the marginal distribution of the best nonperiodic model.\n",
    "* p_nonperiodic_var. The variance of the marginal distribution of the best nonperiodic model.\n",
    "* profile_sum. The number of reads which are used in this profile.\n",
    "* bayes_factor_mean. The mean of the posterior distribution of the Bayes factor\n",
    "* bayes_factor_var. The variance of the posterior distribution of the Bayes factor"
   ]
  },
  {
   "cell_type": "code",
   "execution_count": null,
   "metadata": {
    "collapsed": true
   },
   "outputs": [],
   "source": [
    "estimate-metagene-profile-bayes-factors "
   ]
  },
  {
   "cell_type": "markdown",
   "metadata": {},
   "source": [
    "### Selecting periodic read lengths and P-site offsets\n",
    "\n",
    "The second half of the final step in creating the filtered genome profile is selecting the read lengths which exhibit periodicity and determining their P-site offsets. This is handled by the `get-best-periodicity-and-offsets` script.\n",
    "\n",
    "This reads in each of the estimated Bayes factors file and decides whether to use the  given read length based on the estimates.\n",
    "\n",
    "<span style=\"color:red\">TODO:</span> The last three steps can remain separate, but they should not produce so many files. It would be sufficient to create one file for each step."
   ]
  },
  {
   "cell_type": "code",
   "execution_count": null,
   "metadata": {
    "collapsed": true
   },
   "outputs": [],
   "source": []
  }
 ],
 "metadata": {
  "kernelspec": {
   "display_name": "Python 3",
   "language": "python",
   "name": "python3"
  },
  "language_info": {
   "codemirror_mode": {
    "name": "ipython",
    "version": 3
   },
   "file_extension": ".py",
   "mimetype": "text/x-python",
   "name": "python",
   "nbconvert_exporter": "python",
   "pygments_lexer": "ipython3",
   "version": "3.5.0"
  }
 },
 "nbformat": 4,
 "nbformat_minor": 0
}
